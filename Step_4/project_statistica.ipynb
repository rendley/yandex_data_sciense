{
 "cells": [
  {
   "cell_type": "markdown",
   "metadata": {},
   "source": [
    " <a name=\"1\"></a>\n",
    "# <span style=\"color:green\">Задачи исследования:<span>\n",
    "    \n",
    "- проанализировать тарифные планы компании\n",
    "- проанализировать поведение клиентов компании использующие тарифные планы представленные ниже\n",
    "- сделать вывод — какой тариф приносит больше денег.\n",
    "\n",
    "### Описание тарифов\n",
    "\n",
    "##### Тариф «Смарт»\n",
    "\n",
    "1. Ежемесячная плата: 550 рублей\n",
    "2. Включено 500 минут разговора, 50 сообщений и 15 Гб интернет-трафика\n",
    "3. Стоимость услуг сверх тарифного пакета:\n",
    "    - минута разговора: 3 рубля («Мегалайн» всегда округляет вверх значения минут и мегабайтов.\n",
    "    Если пользователь проговорил всего 1 секунду, в тарифе засчитывается целая минута.)\n",
    "    - сообщение: 3 рубля\n",
    "    - 1 Гб интернет-трафика: 200 рублей\n",
    "\n",
    "##### Тариф «Ультра»\n",
    "\n",
    "1. Ежемесячная плата: 1950 рублей\n",
    "2. Включено 3000 минут разговора, 1000 сообщений и 30 Гб интернет-трафика\n",
    "3. Стоимость услуг сверх тарифного пакета:\n",
    "    - минута разговора: 1 рубль\n",
    "    - сообщение: 1 рубль\n",
    "    - 1 Гб интернет-трафика: 150 рублей"
   ]
  },
  {
   "cell_type": "markdown",
   "metadata": {},
   "source": [
    "# План \n",
    "\n",
    "## 1. [Осмотр и изучение данных](#1)\n",
    "\n",
    "## 2. [Предобработка данных](#2)\n",
    "\n",
    "- исправление ошибок в данных\n",
    "- проверка и предварительный анализ\n",
    "\n",
    "## 3. [Подготовка, очистка и добавление данных](#3)\n",
    "\n",
    "- индексы и названия столбцов\n",
    "- работа с дубликатами\n",
    "- работа с пропущенными значениями\n",
    "- изменение типов данных\n",
    "- добавление дополнительных метрик **для каждого пользователя:**\n",
    "      \n",
    "      \n",
    "    - количество сделанных звонков и израсходованных минут разговора по месяцам;\n",
    "    - количество отправленных сообщений по месяцам;\n",
    "    - объем израсходованного интернет-трафика по месяцам;\n",
    "    - помесячную выручку с каждого пользователя (вычтите бесплатный лимит из суммарного количества звонков, сообщений и интернет-трафика; остаток умножьте на значение из тарифного плана).\n",
    "\n",
    "## 4. [Исследовательский анализ данных](#4)\n",
    "\n",
    "- Опишите поведение клиентов оператора, исходя из выборки.\n",
    "- Сколько минут разговора, сколько сообщений и какой объём интернет-трафика требуется пользователям каждого тарифа в месяц?\n",
    "- Посчитайте среднее количество, дисперсию и стандартное отклонение. Постройте гистограммы.\n",
    "  \n",
    "## 5. [Проверка гипотез](#5)\n",
    "\n",
    "- средняя выручка пользователей тарифов «Ультра» и «Смарт» различается;\n",
    "- средняя выручка пользователей из Москвы отличается от выручки пользователей из других регионов;\n",
    "  \n",
    "## 6. [Выводы и результаты исследования](#6)"
   ]
  },
  {
   "cell_type": "markdown",
   "metadata": {},
   "source": [
    "# 1. Импорт библиотек и чтение данных"
   ]
  },
  {
   "cell_type": "code",
   "execution_count": 164,
   "metadata": {},
   "outputs": [],
   "source": [
    "import random\n",
    "import numpy as np\n",
    "import pandas as pd\n",
    "import matplotlib.pyplot as plt\n",
    "import seaborn as sns\n",
    "%matplotlib inline\n",
    "\n",
    "# Disable warnings in Anaconda\n",
    "import warnings\n",
    "warnings.filterwarnings('ignore')\n",
    "\n",
    "from pylab import rcParams\n",
    "rcParams['figure.figsize'] = 10,7\n",
    "pd.set_option('display.max_columns', None)\n",
    "font = {'size': 16}\n",
    "\n",
    "from scipy import stats as st"
   ]
  },
  {
   "cell_type": "code",
   "execution_count": 3,
   "metadata": {},
   "outputs": [],
   "source": [
    "calls = pd.read_csv('datasets/calls.csv')\n",
    "internet = pd.read_csv('datasets/internet.csv')\n",
    "messages = pd.read_csv('datasets/messages.csv')\n",
    "tariffs = pd.read_csv('datasets/tariffs.csv')\n",
    "users = pd.read_csv('datasets/users.csv')"
   ]
  },
  {
   "cell_type": "markdown",
   "metadata": {},
   "source": [
    "### 1.1 Таблица звонков"
   ]
  },
  {
   "cell_type": "code",
   "execution_count": 4,
   "metadata": {},
   "outputs": [
    {
     "data": {
      "text/html": [
       "<div>\n",
       "<style scoped>\n",
       "    .dataframe tbody tr th:only-of-type {\n",
       "        vertical-align: middle;\n",
       "    }\n",
       "\n",
       "    .dataframe tbody tr th {\n",
       "        vertical-align: top;\n",
       "    }\n",
       "\n",
       "    .dataframe thead th {\n",
       "        text-align: right;\n",
       "    }\n",
       "</style>\n",
       "<table border=\"1\" class=\"dataframe\">\n",
       "  <thead>\n",
       "    <tr style=\"text-align: right;\">\n",
       "      <th></th>\n",
       "      <th>id</th>\n",
       "      <th>call_date</th>\n",
       "      <th>duration</th>\n",
       "      <th>user_id</th>\n",
       "    </tr>\n",
       "  </thead>\n",
       "  <tbody>\n",
       "    <tr>\n",
       "      <th>0</th>\n",
       "      <td>1000_0</td>\n",
       "      <td>2018-07-25</td>\n",
       "      <td>0.00</td>\n",
       "      <td>1000</td>\n",
       "    </tr>\n",
       "    <tr>\n",
       "      <th>1</th>\n",
       "      <td>1000_1</td>\n",
       "      <td>2018-08-17</td>\n",
       "      <td>0.00</td>\n",
       "      <td>1000</td>\n",
       "    </tr>\n",
       "    <tr>\n",
       "      <th>2</th>\n",
       "      <td>1000_2</td>\n",
       "      <td>2018-06-11</td>\n",
       "      <td>2.85</td>\n",
       "      <td>1000</td>\n",
       "    </tr>\n",
       "  </tbody>\n",
       "</table>\n",
       "</div>"
      ],
      "text/plain": [
       "       id   call_date  duration  user_id\n",
       "0  1000_0  2018-07-25      0.00     1000\n",
       "1  1000_1  2018-08-17      0.00     1000\n",
       "2  1000_2  2018-06-11      2.85     1000"
      ]
     },
     "execution_count": 4,
     "metadata": {},
     "output_type": "execute_result"
    }
   ],
   "source": [
    "calls.head(3)"
   ]
  },
  {
   "cell_type": "code",
   "execution_count": 5,
   "metadata": {},
   "outputs": [
    {
     "name": "stdout",
     "output_type": "stream",
     "text": [
      "<class 'pandas.core.frame.DataFrame'>\n",
      "RangeIndex: 202607 entries, 0 to 202606\n",
      "Data columns (total 4 columns):\n",
      " #   Column     Non-Null Count   Dtype  \n",
      "---  ------     --------------   -----  \n",
      " 0   id         202607 non-null  object \n",
      " 1   call_date  202607 non-null  object \n",
      " 2   duration   202607 non-null  float64\n",
      " 3   user_id    202607 non-null  int64  \n",
      "dtypes: float64(1), int64(1), object(2)\n",
      "memory usage: 6.2+ MB\n"
     ]
    }
   ],
   "source": [
    "calls.info()"
   ]
  },
  {
   "cell_type": "markdown",
   "metadata": {},
   "source": [
    "### 1.2 Таблица интернет трафика"
   ]
  },
  {
   "cell_type": "code",
   "execution_count": 6,
   "metadata": {},
   "outputs": [
    {
     "data": {
      "text/html": [
       "<div>\n",
       "<style scoped>\n",
       "    .dataframe tbody tr th:only-of-type {\n",
       "        vertical-align: middle;\n",
       "    }\n",
       "\n",
       "    .dataframe tbody tr th {\n",
       "        vertical-align: top;\n",
       "    }\n",
       "\n",
       "    .dataframe thead th {\n",
       "        text-align: right;\n",
       "    }\n",
       "</style>\n",
       "<table border=\"1\" class=\"dataframe\">\n",
       "  <thead>\n",
       "    <tr style=\"text-align: right;\">\n",
       "      <th></th>\n",
       "      <th>id</th>\n",
       "      <th>mb_used</th>\n",
       "      <th>session_date</th>\n",
       "      <th>user_id</th>\n",
       "    </tr>\n",
       "  </thead>\n",
       "  <tbody>\n",
       "    <tr>\n",
       "      <th>0</th>\n",
       "      <td>1000_0</td>\n",
       "      <td>112.95</td>\n",
       "      <td>2018-11-25</td>\n",
       "      <td>1000</td>\n",
       "    </tr>\n",
       "    <tr>\n",
       "      <th>1</th>\n",
       "      <td>1000_1</td>\n",
       "      <td>1052.81</td>\n",
       "      <td>2018-09-07</td>\n",
       "      <td>1000</td>\n",
       "    </tr>\n",
       "    <tr>\n",
       "      <th>2</th>\n",
       "      <td>1000_2</td>\n",
       "      <td>1197.26</td>\n",
       "      <td>2018-06-25</td>\n",
       "      <td>1000</td>\n",
       "    </tr>\n",
       "  </tbody>\n",
       "</table>\n",
       "</div>"
      ],
      "text/plain": [
       "       id  mb_used session_date  user_id\n",
       "0  1000_0   112.95   2018-11-25     1000\n",
       "1  1000_1  1052.81   2018-09-07     1000\n",
       "2  1000_2  1197.26   2018-06-25     1000"
      ]
     },
     "execution_count": 6,
     "metadata": {},
     "output_type": "execute_result"
    }
   ],
   "source": [
    "internet.head(3)"
   ]
  },
  {
   "cell_type": "code",
   "execution_count": 7,
   "metadata": {},
   "outputs": [
    {
     "name": "stdout",
     "output_type": "stream",
     "text": [
      "<class 'pandas.core.frame.DataFrame'>\n",
      "RangeIndex: 149396 entries, 0 to 149395\n",
      "Data columns (total 4 columns):\n",
      " #   Column        Non-Null Count   Dtype  \n",
      "---  ------        --------------   -----  \n",
      " 0   id            149396 non-null  object \n",
      " 1   mb_used       149396 non-null  float64\n",
      " 2   session_date  149396 non-null  object \n",
      " 3   user_id       149396 non-null  int64  \n",
      "dtypes: float64(1), int64(1), object(2)\n",
      "memory usage: 4.6+ MB\n"
     ]
    }
   ],
   "source": [
    "internet.info()"
   ]
  },
  {
   "cell_type": "markdown",
   "metadata": {},
   "source": [
    "### 1.3 Таблица сообщений"
   ]
  },
  {
   "cell_type": "code",
   "execution_count": 8,
   "metadata": {},
   "outputs": [
    {
     "data": {
      "text/html": [
       "<div>\n",
       "<style scoped>\n",
       "    .dataframe tbody tr th:only-of-type {\n",
       "        vertical-align: middle;\n",
       "    }\n",
       "\n",
       "    .dataframe tbody tr th {\n",
       "        vertical-align: top;\n",
       "    }\n",
       "\n",
       "    .dataframe thead th {\n",
       "        text-align: right;\n",
       "    }\n",
       "</style>\n",
       "<table border=\"1\" class=\"dataframe\">\n",
       "  <thead>\n",
       "    <tr style=\"text-align: right;\">\n",
       "      <th></th>\n",
       "      <th>id</th>\n",
       "      <th>message_date</th>\n",
       "      <th>user_id</th>\n",
       "    </tr>\n",
       "  </thead>\n",
       "  <tbody>\n",
       "    <tr>\n",
       "      <th>0</th>\n",
       "      <td>1000_0</td>\n",
       "      <td>2018-06-27</td>\n",
       "      <td>1000</td>\n",
       "    </tr>\n",
       "    <tr>\n",
       "      <th>1</th>\n",
       "      <td>1000_1</td>\n",
       "      <td>2018-10-08</td>\n",
       "      <td>1000</td>\n",
       "    </tr>\n",
       "    <tr>\n",
       "      <th>2</th>\n",
       "      <td>1000_2</td>\n",
       "      <td>2018-08-04</td>\n",
       "      <td>1000</td>\n",
       "    </tr>\n",
       "  </tbody>\n",
       "</table>\n",
       "</div>"
      ],
      "text/plain": [
       "       id message_date  user_id\n",
       "0  1000_0   2018-06-27     1000\n",
       "1  1000_1   2018-10-08     1000\n",
       "2  1000_2   2018-08-04     1000"
      ]
     },
     "execution_count": 8,
     "metadata": {},
     "output_type": "execute_result"
    }
   ],
   "source": [
    "messages.head(3)"
   ]
  },
  {
   "cell_type": "code",
   "execution_count": 9,
   "metadata": {},
   "outputs": [
    {
     "name": "stdout",
     "output_type": "stream",
     "text": [
      "<class 'pandas.core.frame.DataFrame'>\n",
      "RangeIndex: 123036 entries, 0 to 123035\n",
      "Data columns (total 3 columns):\n",
      " #   Column        Non-Null Count   Dtype \n",
      "---  ------        --------------   ----- \n",
      " 0   id            123036 non-null  object\n",
      " 1   message_date  123036 non-null  object\n",
      " 2   user_id       123036 non-null  int64 \n",
      "dtypes: int64(1), object(2)\n",
      "memory usage: 2.8+ MB\n"
     ]
    }
   ],
   "source": [
    "messages.info()"
   ]
  },
  {
   "cell_type": "markdown",
   "metadata": {},
   "source": [
    "### 1.3 Таблица пользователей"
   ]
  },
  {
   "cell_type": "code",
   "execution_count": 10,
   "metadata": {},
   "outputs": [
    {
     "data": {
      "text/html": [
       "<div>\n",
       "<style scoped>\n",
       "    .dataframe tbody tr th:only-of-type {\n",
       "        vertical-align: middle;\n",
       "    }\n",
       "\n",
       "    .dataframe tbody tr th {\n",
       "        vertical-align: top;\n",
       "    }\n",
       "\n",
       "    .dataframe thead th {\n",
       "        text-align: right;\n",
       "    }\n",
       "</style>\n",
       "<table border=\"1\" class=\"dataframe\">\n",
       "  <thead>\n",
       "    <tr style=\"text-align: right;\">\n",
       "      <th></th>\n",
       "      <th>user_id</th>\n",
       "      <th>age</th>\n",
       "      <th>churn_date</th>\n",
       "      <th>city</th>\n",
       "      <th>first_name</th>\n",
       "      <th>last_name</th>\n",
       "      <th>reg_date</th>\n",
       "      <th>tariff</th>\n",
       "    </tr>\n",
       "  </thead>\n",
       "  <tbody>\n",
       "    <tr>\n",
       "      <th>0</th>\n",
       "      <td>1000</td>\n",
       "      <td>52</td>\n",
       "      <td>NaN</td>\n",
       "      <td>Краснодар</td>\n",
       "      <td>Рафаил</td>\n",
       "      <td>Верещагин</td>\n",
       "      <td>2018-05-25</td>\n",
       "      <td>ultra</td>\n",
       "    </tr>\n",
       "    <tr>\n",
       "      <th>1</th>\n",
       "      <td>1001</td>\n",
       "      <td>41</td>\n",
       "      <td>NaN</td>\n",
       "      <td>Москва</td>\n",
       "      <td>Иван</td>\n",
       "      <td>Ежов</td>\n",
       "      <td>2018-11-01</td>\n",
       "      <td>smart</td>\n",
       "    </tr>\n",
       "    <tr>\n",
       "      <th>2</th>\n",
       "      <td>1002</td>\n",
       "      <td>59</td>\n",
       "      <td>NaN</td>\n",
       "      <td>Стерлитамак</td>\n",
       "      <td>Евгений</td>\n",
       "      <td>Абрамович</td>\n",
       "      <td>2018-06-17</td>\n",
       "      <td>smart</td>\n",
       "    </tr>\n",
       "  </tbody>\n",
       "</table>\n",
       "</div>"
      ],
      "text/plain": [
       "   user_id  age churn_date         city first_name  last_name    reg_date  \\\n",
       "0     1000   52        NaN    Краснодар     Рафаил  Верещагин  2018-05-25   \n",
       "1     1001   41        NaN       Москва       Иван       Ежов  2018-11-01   \n",
       "2     1002   59        NaN  Стерлитамак    Евгений  Абрамович  2018-06-17   \n",
       "\n",
       "  tariff  \n",
       "0  ultra  \n",
       "1  smart  \n",
       "2  smart  "
      ]
     },
     "execution_count": 10,
     "metadata": {},
     "output_type": "execute_result"
    }
   ],
   "source": [
    "users.head(3)"
   ]
  },
  {
   "cell_type": "code",
   "execution_count": 11,
   "metadata": {},
   "outputs": [
    {
     "name": "stdout",
     "output_type": "stream",
     "text": [
      "<class 'pandas.core.frame.DataFrame'>\n",
      "RangeIndex: 500 entries, 0 to 499\n",
      "Data columns (total 8 columns):\n",
      " #   Column      Non-Null Count  Dtype \n",
      "---  ------      --------------  ----- \n",
      " 0   user_id     500 non-null    int64 \n",
      " 1   age         500 non-null    int64 \n",
      " 2   churn_date  38 non-null     object\n",
      " 3   city        500 non-null    object\n",
      " 4   first_name  500 non-null    object\n",
      " 5   last_name   500 non-null    object\n",
      " 6   reg_date    500 non-null    object\n",
      " 7   tariff      500 non-null    object\n",
      "dtypes: int64(2), object(6)\n",
      "memory usage: 31.4+ KB\n"
     ]
    }
   ],
   "source": [
    "users.info()"
   ]
  },
  {
   "cell_type": "markdown",
   "metadata": {},
   "source": [
    "### 1.4 Таблица тарифов"
   ]
  },
  {
   "cell_type": "code",
   "execution_count": 12,
   "metadata": {},
   "outputs": [
    {
     "data": {
      "text/html": [
       "<div>\n",
       "<style scoped>\n",
       "    .dataframe tbody tr th:only-of-type {\n",
       "        vertical-align: middle;\n",
       "    }\n",
       "\n",
       "    .dataframe tbody tr th {\n",
       "        vertical-align: top;\n",
       "    }\n",
       "\n",
       "    .dataframe thead th {\n",
       "        text-align: right;\n",
       "    }\n",
       "</style>\n",
       "<table border=\"1\" class=\"dataframe\">\n",
       "  <thead>\n",
       "    <tr style=\"text-align: right;\">\n",
       "      <th></th>\n",
       "      <th>messages_included</th>\n",
       "      <th>mg_per_month_included</th>\n",
       "      <th>minutes_included</th>\n",
       "      <th>rub_monthly_fee</th>\n",
       "      <th>rub_per_gb</th>\n",
       "      <th>rub_per_message</th>\n",
       "      <th>rub_per_minute</th>\n",
       "      <th>tariff_name</th>\n",
       "    </tr>\n",
       "  </thead>\n",
       "  <tbody>\n",
       "    <tr>\n",
       "      <th>0</th>\n",
       "      <td>50</td>\n",
       "      <td>15360</td>\n",
       "      <td>500</td>\n",
       "      <td>550</td>\n",
       "      <td>200</td>\n",
       "      <td>3</td>\n",
       "      <td>3</td>\n",
       "      <td>smart</td>\n",
       "    </tr>\n",
       "    <tr>\n",
       "      <th>1</th>\n",
       "      <td>1000</td>\n",
       "      <td>30720</td>\n",
       "      <td>3000</td>\n",
       "      <td>1950</td>\n",
       "      <td>150</td>\n",
       "      <td>1</td>\n",
       "      <td>1</td>\n",
       "      <td>ultra</td>\n",
       "    </tr>\n",
       "  </tbody>\n",
       "</table>\n",
       "</div>"
      ],
      "text/plain": [
       "   messages_included  mg_per_month_included  minutes_included  \\\n",
       "0                 50                  15360               500   \n",
       "1               1000                  30720              3000   \n",
       "\n",
       "   rub_monthly_fee  rub_per_gb  rub_per_message  rub_per_minute tariff_name  \n",
       "0              550         200                3               3       smart  \n",
       "1             1950         150                1               1       ultra  "
      ]
     },
     "execution_count": 12,
     "metadata": {},
     "output_type": "execute_result"
    }
   ],
   "source": [
    "tariffs.head()"
   ]
  },
  {
   "cell_type": "markdown",
   "metadata": {},
   "source": [
    " <a name=\"2\"></a>\n",
    "# 2. Предобработка данных и предварительный анализ\n",
    "[К оглавлению](#1)"
   ]
  },
  {
   "cell_type": "markdown",
   "metadata": {},
   "source": [
    "### Распределение пользователей по тарифам"
   ]
  },
  {
   "cell_type": "code",
   "execution_count": 13,
   "metadata": {
    "scrolled": false
   },
   "outputs": [
    {
     "data": {
      "text/plain": [
       "smart    351\n",
       "ultra    149\n",
       "Name: tariff, dtype: int64"
      ]
     },
     "execution_count": 13,
     "metadata": {},
     "output_type": "execute_result"
    }
   ],
   "source": [
    "users['tariff'].value_counts()"
   ]
  },
  {
   "cell_type": "code",
   "execution_count": 14,
   "metadata": {},
   "outputs": [
    {
     "data": {
      "image/png": "[encoded data removed]",
      "text/plain": [
       "<Figure size 720x504 with 1 Axes>"
      ]
     },
     "metadata": {
      "needs_background": "light"
     },
     "output_type": "display_data"
    }
   ],
   "source": [
    "sns.countplot(users['tariff'])\n",
    "plt.title('Распределение пользователей по тарифам');"
   ]
  },
  {
   "cell_type": "code",
   "execution_count": 15,
   "metadata": {},
   "outputs": [
    {
     "data": {
      "text/plain": [
       "smart    328\n",
       "ultra    134\n",
       "Name: tariff, dtype: int64"
      ]
     },
     "execution_count": 15,
     "metadata": {},
     "output_type": "execute_result"
    }
   ],
   "source": [
    "## дейсвтующих\n",
    "users[users['churn_date'].isna()]['tariff'].value_counts()"
   ]
  },
  {
   "cell_type": "code",
   "execution_count": 16,
   "metadata": {},
   "outputs": [
    {
     "data": {
      "text/plain": [
       "smart    23\n",
       "ultra    15\n",
       "Name: tariff, dtype: int64"
      ]
     },
     "execution_count": 16,
     "metadata": {},
     "output_type": "execute_result"
    }
   ],
   "source": [
    "## прекративших пользоваться услугами\n",
    "users[~users['churn_date'].isna()]['tariff'].value_counts()"
   ]
  },
  {
   "cell_type": "code",
   "execution_count": 17,
   "metadata": {},
   "outputs": [],
   "source": [
    "users['churn_date'].fillna(False, inplace=True)\n"
   ]
  },
  {
   "cell_type": "code",
   "execution_count": 18,
   "metadata": {},
   "outputs": [],
   "source": [
    "def split_charn(value):\n",
    "    if value:\n",
    "        return True\n",
    "    return False"
   ]
  },
  {
   "cell_type": "code",
   "execution_count": 19,
   "metadata": {},
   "outputs": [],
   "source": [
    "users['churn_date'] = users['churn_date'].apply(split_charn)"
   ]
  },
  {
   "cell_type": "code",
   "execution_count": 20,
   "metadata": {},
   "outputs": [
    {
     "data": {
      "image/png": "[encoded data removed]",
      "text/plain": [
       "<Figure size 720x504 with 1 Axes>"
      ]
     },
     "metadata": {
      "needs_background": "light"
     },
     "output_type": "display_data"
    }
   ],
   "source": [
    "sns.countplot(users['churn_date'])\n",
    "plt.title('Распределение ушедших и действующих пользователей');"
   ]
  },
  {
   "cell_type": "markdown",
   "metadata": {},
   "source": [
    "### Звоники длительностью менее 1 минуты"
   ]
  },
  {
   "cell_type": "code",
   "execution_count": 21,
   "metadata": {},
   "outputs": [
    {
     "data": {
      "text/html": [
       "<div>\n",
       "<style scoped>\n",
       "    .dataframe tbody tr th:only-of-type {\n",
       "        vertical-align: middle;\n",
       "    }\n",
       "\n",
       "    .dataframe tbody tr th {\n",
       "        vertical-align: top;\n",
       "    }\n",
       "\n",
       "    .dataframe thead th {\n",
       "        text-align: right;\n",
       "    }\n",
       "</style>\n",
       "<table border=\"1\" class=\"dataframe\">\n",
       "  <thead>\n",
       "    <tr style=\"text-align: right;\">\n",
       "      <th></th>\n",
       "      <th>id</th>\n",
       "      <th>call_date</th>\n",
       "      <th>duration</th>\n",
       "      <th>user_id</th>\n",
       "    </tr>\n",
       "  </thead>\n",
       "  <tbody>\n",
       "    <tr>\n",
       "      <th>0</th>\n",
       "      <td>1000_0</td>\n",
       "      <td>2018-07-25</td>\n",
       "      <td>0.00</td>\n",
       "      <td>1000</td>\n",
       "    </tr>\n",
       "    <tr>\n",
       "      <th>1</th>\n",
       "      <td>1000_1</td>\n",
       "      <td>2018-08-17</td>\n",
       "      <td>0.00</td>\n",
       "      <td>1000</td>\n",
       "    </tr>\n",
       "    <tr>\n",
       "      <th>5</th>\n",
       "      <td>1000_5</td>\n",
       "      <td>2018-11-02</td>\n",
       "      <td>0.00</td>\n",
       "      <td>1000</td>\n",
       "    </tr>\n",
       "    <tr>\n",
       "      <th>6</th>\n",
       "      <td>1000_6</td>\n",
       "      <td>2018-10-18</td>\n",
       "      <td>0.00</td>\n",
       "      <td>1000</td>\n",
       "    </tr>\n",
       "    <tr>\n",
       "      <th>9</th>\n",
       "      <td>1000_9</td>\n",
       "      <td>2018-08-15</td>\n",
       "      <td>0.00</td>\n",
       "      <td>1000</td>\n",
       "    </tr>\n",
       "    <tr>\n",
       "      <th>...</th>\n",
       "      <td>...</td>\n",
       "      <td>...</td>\n",
       "      <td>...</td>\n",
       "      <td>...</td>\n",
       "    </tr>\n",
       "    <tr>\n",
       "      <th>202592</th>\n",
       "      <td>1499_205</td>\n",
       "      <td>2018-10-13</td>\n",
       "      <td>0.00</td>\n",
       "      <td>1499</td>\n",
       "    </tr>\n",
       "    <tr>\n",
       "      <th>202593</th>\n",
       "      <td>1499_206</td>\n",
       "      <td>2018-12-26</td>\n",
       "      <td>0.00</td>\n",
       "      <td>1499</td>\n",
       "    </tr>\n",
       "    <tr>\n",
       "      <th>202594</th>\n",
       "      <td>1499_207</td>\n",
       "      <td>2018-10-28</td>\n",
       "      <td>0.00</td>\n",
       "      <td>1499</td>\n",
       "    </tr>\n",
       "    <tr>\n",
       "      <th>202596</th>\n",
       "      <td>1499_209</td>\n",
       "      <td>2018-12-16</td>\n",
       "      <td>0.00</td>\n",
       "      <td>1499</td>\n",
       "    </tr>\n",
       "    <tr>\n",
       "      <th>202602</th>\n",
       "      <td>1499_215</td>\n",
       "      <td>2018-12-26</td>\n",
       "      <td>0.76</td>\n",
       "      <td>1499</td>\n",
       "    </tr>\n",
       "  </tbody>\n",
       "</table>\n",
       "<p>47927 rows × 4 columns</p>\n",
       "</div>"
      ],
      "text/plain": [
       "              id   call_date  duration  user_id\n",
       "0         1000_0  2018-07-25      0.00     1000\n",
       "1         1000_1  2018-08-17      0.00     1000\n",
       "5         1000_5  2018-11-02      0.00     1000\n",
       "6         1000_6  2018-10-18      0.00     1000\n",
       "9         1000_9  2018-08-15      0.00     1000\n",
       "...          ...         ...       ...      ...\n",
       "202592  1499_205  2018-10-13      0.00     1499\n",
       "202593  1499_206  2018-12-26      0.00     1499\n",
       "202594  1499_207  2018-10-28      0.00     1499\n",
       "202596  1499_209  2018-12-16      0.00     1499\n",
       "202602  1499_215  2018-12-26      0.76     1499\n",
       "\n",
       "[47927 rows x 4 columns]"
      ]
     },
     "execution_count": 21,
     "metadata": {},
     "output_type": "execute_result"
    }
   ],
   "source": [
    "calls[calls['duration'] < 1]"
   ]
  },
  {
   "cell_type": "markdown",
   "metadata": {},
   "source": [
    "### Вывод:\n",
    "**Всего в нашей выборке 500 абонентов:**\n",
    "- тариф smart 351 пользователя\n",
    "- тариф ultra 149 пользователя\n",
    "\n",
    "##### из которых действующих 462:\n",
    "\n",
    "- тариф smart 328\n",
    "- тариф ultra 134\n",
    "\n",
    "##### прекративших пользоваться услугами 38**:\n",
    "- тариф smart 23\n",
    "- тариф ultra 15\n",
    "\n",
    "**Предварительный анализ показал что:**\n",
    "\n",
    "- Требуется изменить в данных тип данных всех дат в datetime\n",
    "- Столбец **churn_date** можно изменить на True и False - по желанию\n",
    "- Опереатор всегда округляет вверх значения минут и мегабайтов. Если пользователь проговорил всего 1 секунду, в тарифе засчитывается целая минута. Значит требуется округлить значения меньше минуты \n",
    "- Интернет трафик по тарифу расчитывается в Гб а в таблице Мб. Обратить внимание при обобщении трафика для каждого usera "
   ]
  },
  {
   "cell_type": "markdown",
   "metadata": {},
   "source": [
    "<a name=\"3\"></a>\n",
    "# 3. Подготовка и очистка данных\n",
    "[К оглавлению](#1)\n"
   ]
  },
  {
   "cell_type": "markdown",
   "metadata": {},
   "source": [
    "### Изменяем тип данных в таблицах"
   ]
  },
  {
   "cell_type": "code",
   "execution_count": 22,
   "metadata": {},
   "outputs": [],
   "source": [
    "def get_datetime(data, columns):\n",
    "    for col in columns:\n",
    "        data[col] = data[col].astype('datetime64[ns]')\n",
    "    return data"
   ]
  },
  {
   "cell_type": "code",
   "execution_count": 23,
   "metadata": {},
   "outputs": [
    {
     "data": {
      "text/html": [
       "<div>\n",
       "<style scoped>\n",
       "    .dataframe tbody tr th:only-of-type {\n",
       "        vertical-align: middle;\n",
       "    }\n",
       "\n",
       "    .dataframe tbody tr th {\n",
       "        vertical-align: top;\n",
       "    }\n",
       "\n",
       "    .dataframe thead th {\n",
       "        text-align: right;\n",
       "    }\n",
       "</style>\n",
       "<table border=\"1\" class=\"dataframe\">\n",
       "  <thead>\n",
       "    <tr style=\"text-align: right;\">\n",
       "      <th></th>\n",
       "      <th>user_id</th>\n",
       "      <th>age</th>\n",
       "      <th>churn_date</th>\n",
       "      <th>city</th>\n",
       "      <th>first_name</th>\n",
       "      <th>last_name</th>\n",
       "      <th>reg_date</th>\n",
       "      <th>tariff</th>\n",
       "    </tr>\n",
       "  </thead>\n",
       "  <tbody>\n",
       "    <tr>\n",
       "      <th>0</th>\n",
       "      <td>1000</td>\n",
       "      <td>52</td>\n",
       "      <td>False</td>\n",
       "      <td>Краснодар</td>\n",
       "      <td>Рафаил</td>\n",
       "      <td>Верещагин</td>\n",
       "      <td>2018-05-25</td>\n",
       "      <td>ultra</td>\n",
       "    </tr>\n",
       "    <tr>\n",
       "      <th>1</th>\n",
       "      <td>1001</td>\n",
       "      <td>41</td>\n",
       "      <td>False</td>\n",
       "      <td>Москва</td>\n",
       "      <td>Иван</td>\n",
       "      <td>Ежов</td>\n",
       "      <td>2018-11-01</td>\n",
       "      <td>smart</td>\n",
       "    </tr>\n",
       "    <tr>\n",
       "      <th>2</th>\n",
       "      <td>1002</td>\n",
       "      <td>59</td>\n",
       "      <td>False</td>\n",
       "      <td>Стерлитамак</td>\n",
       "      <td>Евгений</td>\n",
       "      <td>Абрамович</td>\n",
       "      <td>2018-06-17</td>\n",
       "      <td>smart</td>\n",
       "    </tr>\n",
       "    <tr>\n",
       "      <th>3</th>\n",
       "      <td>1003</td>\n",
       "      <td>23</td>\n",
       "      <td>False</td>\n",
       "      <td>Москва</td>\n",
       "      <td>Белла</td>\n",
       "      <td>Белякова</td>\n",
       "      <td>2018-08-17</td>\n",
       "      <td>ultra</td>\n",
       "    </tr>\n",
       "    <tr>\n",
       "      <th>4</th>\n",
       "      <td>1004</td>\n",
       "      <td>68</td>\n",
       "      <td>False</td>\n",
       "      <td>Новокузнецк</td>\n",
       "      <td>Татьяна</td>\n",
       "      <td>Авдеенко</td>\n",
       "      <td>2018-05-14</td>\n",
       "      <td>ultra</td>\n",
       "    </tr>\n",
       "    <tr>\n",
       "      <th>...</th>\n",
       "      <td>...</td>\n",
       "      <td>...</td>\n",
       "      <td>...</td>\n",
       "      <td>...</td>\n",
       "      <td>...</td>\n",
       "      <td>...</td>\n",
       "      <td>...</td>\n",
       "      <td>...</td>\n",
       "    </tr>\n",
       "    <tr>\n",
       "      <th>495</th>\n",
       "      <td>1495</td>\n",
       "      <td>65</td>\n",
       "      <td>False</td>\n",
       "      <td>Иркутск</td>\n",
       "      <td>Авксентий</td>\n",
       "      <td>Фокин</td>\n",
       "      <td>2018-08-28</td>\n",
       "      <td>ultra</td>\n",
       "    </tr>\n",
       "    <tr>\n",
       "      <th>496</th>\n",
       "      <td>1496</td>\n",
       "      <td>36</td>\n",
       "      <td>False</td>\n",
       "      <td>Вологда</td>\n",
       "      <td>Трифон</td>\n",
       "      <td>Блохин</td>\n",
       "      <td>2018-01-27</td>\n",
       "      <td>smart</td>\n",
       "    </tr>\n",
       "    <tr>\n",
       "      <th>497</th>\n",
       "      <td>1497</td>\n",
       "      <td>32</td>\n",
       "      <td>False</td>\n",
       "      <td>Челябинск</td>\n",
       "      <td>Каролина</td>\n",
       "      <td>Агеева</td>\n",
       "      <td>2018-10-09</td>\n",
       "      <td>smart</td>\n",
       "    </tr>\n",
       "    <tr>\n",
       "      <th>498</th>\n",
       "      <td>1498</td>\n",
       "      <td>68</td>\n",
       "      <td>True</td>\n",
       "      <td>Владикавказ</td>\n",
       "      <td>Всеволод</td>\n",
       "      <td>Акимчин</td>\n",
       "      <td>2018-07-19</td>\n",
       "      <td>smart</td>\n",
       "    </tr>\n",
       "    <tr>\n",
       "      <th>499</th>\n",
       "      <td>1499</td>\n",
       "      <td>35</td>\n",
       "      <td>False</td>\n",
       "      <td>Пермь</td>\n",
       "      <td>Гектор</td>\n",
       "      <td>Корнилов</td>\n",
       "      <td>2018-09-27</td>\n",
       "      <td>smart</td>\n",
       "    </tr>\n",
       "  </tbody>\n",
       "</table>\n",
       "<p>500 rows × 8 columns</p>\n",
       "</div>"
      ],
      "text/plain": [
       "     user_id  age  churn_date         city first_name  last_name   reg_date  \\\n",
       "0       1000   52       False    Краснодар     Рафаил  Верещагин 2018-05-25   \n",
       "1       1001   41       False       Москва       Иван       Ежов 2018-11-01   \n",
       "2       1002   59       False  Стерлитамак    Евгений  Абрамович 2018-06-17   \n",
       "3       1003   23       False       Москва      Белла   Белякова 2018-08-17   \n",
       "4       1004   68       False  Новокузнецк    Татьяна   Авдеенко 2018-05-14   \n",
       "..       ...  ...         ...          ...        ...        ...        ...   \n",
       "495     1495   65       False      Иркутск  Авксентий      Фокин 2018-08-28   \n",
       "496     1496   36       False      Вологда     Трифон     Блохин 2018-01-27   \n",
       "497     1497   32       False    Челябинск   Каролина     Агеева 2018-10-09   \n",
       "498     1498   68        True  Владикавказ   Всеволод    Акимчин 2018-07-19   \n",
       "499     1499   35       False        Пермь     Гектор   Корнилов 2018-09-27   \n",
       "\n",
       "    tariff  \n",
       "0    ultra  \n",
       "1    smart  \n",
       "2    smart  \n",
       "3    ultra  \n",
       "4    ultra  \n",
       "..     ...  \n",
       "495  ultra  \n",
       "496  smart  \n",
       "497  smart  \n",
       "498  smart  \n",
       "499  smart  \n",
       "\n",
       "[500 rows x 8 columns]"
      ]
     },
     "execution_count": 23,
     "metadata": {},
     "output_type": "execute_result"
    }
   ],
   "source": [
    "get_datetime(calls, ['call_date'])\n",
    "get_datetime(internet, ['session_date'])\n",
    "get_datetime(messages, ['message_date'])\n",
    "get_datetime(users, ['reg_date'])"
   ]
  },
  {
   "cell_type": "markdown",
   "metadata": {},
   "source": [
    "### Округлим данные по звонкам и заменим нули на 1"
   ]
  },
  {
   "cell_type": "code",
   "execution_count": 24,
   "metadata": {},
   "outputs": [
    {
     "data": {
      "text/html": [
       "<div>\n",
       "<style scoped>\n",
       "    .dataframe tbody tr th:only-of-type {\n",
       "        vertical-align: middle;\n",
       "    }\n",
       "\n",
       "    .dataframe tbody tr th {\n",
       "        vertical-align: top;\n",
       "    }\n",
       "\n",
       "    .dataframe thead th {\n",
       "        text-align: right;\n",
       "    }\n",
       "</style>\n",
       "<table border=\"1\" class=\"dataframe\">\n",
       "  <thead>\n",
       "    <tr style=\"text-align: right;\">\n",
       "      <th></th>\n",
       "      <th>id</th>\n",
       "      <th>call_date</th>\n",
       "      <th>duration</th>\n",
       "      <th>user_id</th>\n",
       "    </tr>\n",
       "  </thead>\n",
       "  <tbody>\n",
       "    <tr>\n",
       "      <th>0</th>\n",
       "      <td>1000_0</td>\n",
       "      <td>2018-07-25</td>\n",
       "      <td>0.00</td>\n",
       "      <td>1000</td>\n",
       "    </tr>\n",
       "    <tr>\n",
       "      <th>1</th>\n",
       "      <td>1000_1</td>\n",
       "      <td>2018-08-17</td>\n",
       "      <td>0.00</td>\n",
       "      <td>1000</td>\n",
       "    </tr>\n",
       "    <tr>\n",
       "      <th>5</th>\n",
       "      <td>1000_5</td>\n",
       "      <td>2018-11-02</td>\n",
       "      <td>0.00</td>\n",
       "      <td>1000</td>\n",
       "    </tr>\n",
       "    <tr>\n",
       "      <th>6</th>\n",
       "      <td>1000_6</td>\n",
       "      <td>2018-10-18</td>\n",
       "      <td>0.00</td>\n",
       "      <td>1000</td>\n",
       "    </tr>\n",
       "    <tr>\n",
       "      <th>9</th>\n",
       "      <td>1000_9</td>\n",
       "      <td>2018-08-15</td>\n",
       "      <td>0.00</td>\n",
       "      <td>1000</td>\n",
       "    </tr>\n",
       "    <tr>\n",
       "      <th>...</th>\n",
       "      <td>...</td>\n",
       "      <td>...</td>\n",
       "      <td>...</td>\n",
       "      <td>...</td>\n",
       "    </tr>\n",
       "    <tr>\n",
       "      <th>202592</th>\n",
       "      <td>1499_205</td>\n",
       "      <td>2018-10-13</td>\n",
       "      <td>0.00</td>\n",
       "      <td>1499</td>\n",
       "    </tr>\n",
       "    <tr>\n",
       "      <th>202593</th>\n",
       "      <td>1499_206</td>\n",
       "      <td>2018-12-26</td>\n",
       "      <td>0.00</td>\n",
       "      <td>1499</td>\n",
       "    </tr>\n",
       "    <tr>\n",
       "      <th>202594</th>\n",
       "      <td>1499_207</td>\n",
       "      <td>2018-10-28</td>\n",
       "      <td>0.00</td>\n",
       "      <td>1499</td>\n",
       "    </tr>\n",
       "    <tr>\n",
       "      <th>202596</th>\n",
       "      <td>1499_209</td>\n",
       "      <td>2018-12-16</td>\n",
       "      <td>0.00</td>\n",
       "      <td>1499</td>\n",
       "    </tr>\n",
       "    <tr>\n",
       "      <th>202602</th>\n",
       "      <td>1499_215</td>\n",
       "      <td>2018-12-26</td>\n",
       "      <td>0.76</td>\n",
       "      <td>1499</td>\n",
       "    </tr>\n",
       "  </tbody>\n",
       "</table>\n",
       "<p>47927 rows × 4 columns</p>\n",
       "</div>"
      ],
      "text/plain": [
       "              id  call_date  duration  user_id\n",
       "0         1000_0 2018-07-25      0.00     1000\n",
       "1         1000_1 2018-08-17      0.00     1000\n",
       "5         1000_5 2018-11-02      0.00     1000\n",
       "6         1000_6 2018-10-18      0.00     1000\n",
       "9         1000_9 2018-08-15      0.00     1000\n",
       "...          ...        ...       ...      ...\n",
       "202592  1499_205 2018-10-13      0.00     1499\n",
       "202593  1499_206 2018-12-26      0.00     1499\n",
       "202594  1499_207 2018-10-28      0.00     1499\n",
       "202596  1499_209 2018-12-16      0.00     1499\n",
       "202602  1499_215 2018-12-26      0.76     1499\n",
       "\n",
       "[47927 rows x 4 columns]"
      ]
     },
     "execution_count": 24,
     "metadata": {},
     "output_type": "execute_result"
    }
   ],
   "source": [
    "# Смотрим сколько данных меньше 1 минуты\n",
    "calls[calls['duration'] < 1]"
   ]
  },
  {
   "cell_type": "code",
   "execution_count": 25,
   "metadata": {},
   "outputs": [
    {
     "data": {
      "text/html": [
       "<div>\n",
       "<style scoped>\n",
       "    .dataframe tbody tr th:only-of-type {\n",
       "        vertical-align: middle;\n",
       "    }\n",
       "\n",
       "    .dataframe tbody tr th {\n",
       "        vertical-align: top;\n",
       "    }\n",
       "\n",
       "    .dataframe thead th {\n",
       "        text-align: right;\n",
       "    }\n",
       "</style>\n",
       "<table border=\"1\" class=\"dataframe\">\n",
       "  <thead>\n",
       "    <tr style=\"text-align: right;\">\n",
       "      <th></th>\n",
       "      <th>id</th>\n",
       "      <th>call_date</th>\n",
       "      <th>duration</th>\n",
       "      <th>user_id</th>\n",
       "    </tr>\n",
       "  </thead>\n",
       "  <tbody>\n",
       "    <tr>\n",
       "      <th>0</th>\n",
       "      <td>1000_0</td>\n",
       "      <td>2018-07-25</td>\n",
       "      <td>1</td>\n",
       "      <td>1000</td>\n",
       "    </tr>\n",
       "    <tr>\n",
       "      <th>1</th>\n",
       "      <td>1000_1</td>\n",
       "      <td>2018-08-17</td>\n",
       "      <td>1</td>\n",
       "      <td>1000</td>\n",
       "    </tr>\n",
       "    <tr>\n",
       "      <th>2</th>\n",
       "      <td>1000_2</td>\n",
       "      <td>2018-06-11</td>\n",
       "      <td>3</td>\n",
       "      <td>1000</td>\n",
       "    </tr>\n",
       "    <tr>\n",
       "      <th>3</th>\n",
       "      <td>1000_3</td>\n",
       "      <td>2018-09-21</td>\n",
       "      <td>14</td>\n",
       "      <td>1000</td>\n",
       "    </tr>\n",
       "    <tr>\n",
       "      <th>4</th>\n",
       "      <td>1000_4</td>\n",
       "      <td>2018-12-15</td>\n",
       "      <td>6</td>\n",
       "      <td>1000</td>\n",
       "    </tr>\n",
       "  </tbody>\n",
       "</table>\n",
       "</div>"
      ],
      "text/plain": [
       "       id  call_date  duration  user_id\n",
       "0  1000_0 2018-07-25         1     1000\n",
       "1  1000_1 2018-08-17         1     1000\n",
       "2  1000_2 2018-06-11         3     1000\n",
       "3  1000_3 2018-09-21        14     1000\n",
       "4  1000_4 2018-12-15         6     1000"
      ]
     },
     "execution_count": 25,
     "metadata": {},
     "output_type": "execute_result"
    }
   ],
   "source": [
    "# Приводим значения в порядок\n",
    "calls['duration'] = calls['duration'].apply(np.ceil).astype('int').replace(0, 1)\n",
    "calls.head()"
   ]
  },
  {
   "cell_type": "markdown",
   "metadata": {},
   "source": [
    "### Округлим данные интерент сессий, заменим нули на 1"
   ]
  },
  {
   "cell_type": "code",
   "execution_count": 26,
   "metadata": {},
   "outputs": [
    {
     "data": {
      "text/html": [
       "<div>\n",
       "<style scoped>\n",
       "    .dataframe tbody tr th:only-of-type {\n",
       "        vertical-align: middle;\n",
       "    }\n",
       "\n",
       "    .dataframe tbody tr th {\n",
       "        vertical-align: top;\n",
       "    }\n",
       "\n",
       "    .dataframe thead th {\n",
       "        text-align: right;\n",
       "    }\n",
       "</style>\n",
       "<table border=\"1\" class=\"dataframe\">\n",
       "  <thead>\n",
       "    <tr style=\"text-align: right;\">\n",
       "      <th></th>\n",
       "      <th>id</th>\n",
       "      <th>mb_used</th>\n",
       "      <th>session_date</th>\n",
       "      <th>user_id</th>\n",
       "    </tr>\n",
       "  </thead>\n",
       "  <tbody>\n",
       "    <tr>\n",
       "      <th>11</th>\n",
       "      <td>1000_11</td>\n",
       "      <td>0.0</td>\n",
       "      <td>2018-08-28</td>\n",
       "      <td>1000</td>\n",
       "    </tr>\n",
       "    <tr>\n",
       "      <th>38</th>\n",
       "      <td>1000_38</td>\n",
       "      <td>0.0</td>\n",
       "      <td>2018-11-27</td>\n",
       "      <td>1000</td>\n",
       "    </tr>\n",
       "    <tr>\n",
       "      <th>46</th>\n",
       "      <td>1000_46</td>\n",
       "      <td>0.0</td>\n",
       "      <td>2018-06-30</td>\n",
       "      <td>1000</td>\n",
       "    </tr>\n",
       "    <tr>\n",
       "      <th>67</th>\n",
       "      <td>1000_67</td>\n",
       "      <td>0.0</td>\n",
       "      <td>2018-06-16</td>\n",
       "      <td>1000</td>\n",
       "    </tr>\n",
       "    <tr>\n",
       "      <th>72</th>\n",
       "      <td>1000_72</td>\n",
       "      <td>0.0</td>\n",
       "      <td>2018-06-15</td>\n",
       "      <td>1000</td>\n",
       "    </tr>\n",
       "    <tr>\n",
       "      <th>...</th>\n",
       "      <td>...</td>\n",
       "      <td>...</td>\n",
       "      <td>...</td>\n",
       "      <td>...</td>\n",
       "    </tr>\n",
       "    <tr>\n",
       "      <th>149380</th>\n",
       "      <td>1499_141</td>\n",
       "      <td>0.0</td>\n",
       "      <td>2018-12-11</td>\n",
       "      <td>1499</td>\n",
       "    </tr>\n",
       "    <tr>\n",
       "      <th>149381</th>\n",
       "      <td>1499_142</td>\n",
       "      <td>0.0</td>\n",
       "      <td>2018-11-01</td>\n",
       "      <td>1499</td>\n",
       "    </tr>\n",
       "    <tr>\n",
       "      <th>149383</th>\n",
       "      <td>1499_144</td>\n",
       "      <td>0.0</td>\n",
       "      <td>2018-11-27</td>\n",
       "      <td>1499</td>\n",
       "    </tr>\n",
       "    <tr>\n",
       "      <th>149386</th>\n",
       "      <td>1499_147</td>\n",
       "      <td>0.0</td>\n",
       "      <td>2018-10-21</td>\n",
       "      <td>1499</td>\n",
       "    </tr>\n",
       "    <tr>\n",
       "      <th>149393</th>\n",
       "      <td>1499_154</td>\n",
       "      <td>0.0</td>\n",
       "      <td>2018-10-27</td>\n",
       "      <td>1499</td>\n",
       "    </tr>\n",
       "  </tbody>\n",
       "</table>\n",
       "<p>19699 rows × 4 columns</p>\n",
       "</div>"
      ],
      "text/plain": [
       "              id  mb_used session_date  user_id\n",
       "11       1000_11      0.0   2018-08-28     1000\n",
       "38       1000_38      0.0   2018-11-27     1000\n",
       "46       1000_46      0.0   2018-06-30     1000\n",
       "67       1000_67      0.0   2018-06-16     1000\n",
       "72       1000_72      0.0   2018-06-15     1000\n",
       "...          ...      ...          ...      ...\n",
       "149380  1499_141      0.0   2018-12-11     1499\n",
       "149381  1499_142      0.0   2018-11-01     1499\n",
       "149383  1499_144      0.0   2018-11-27     1499\n",
       "149386  1499_147      0.0   2018-10-21     1499\n",
       "149393  1499_154      0.0   2018-10-27     1499\n",
       "\n",
       "[19699 rows x 4 columns]"
      ]
     },
     "execution_count": 26,
     "metadata": {},
     "output_type": "execute_result"
    }
   ],
   "source": [
    "# Смотрим данные по интернет сессиям\n",
    "internet[internet['mb_used'] < 1]"
   ]
  },
  {
   "cell_type": "code",
   "execution_count": 27,
   "metadata": {},
   "outputs": [
    {
     "data": {
      "text/html": [
       "<div>\n",
       "<style scoped>\n",
       "    .dataframe tbody tr th:only-of-type {\n",
       "        vertical-align: middle;\n",
       "    }\n",
       "\n",
       "    .dataframe tbody tr th {\n",
       "        vertical-align: top;\n",
       "    }\n",
       "\n",
       "    .dataframe thead th {\n",
       "        text-align: right;\n",
       "    }\n",
       "</style>\n",
       "<table border=\"1\" class=\"dataframe\">\n",
       "  <thead>\n",
       "    <tr style=\"text-align: right;\">\n",
       "      <th></th>\n",
       "      <th>id</th>\n",
       "      <th>mb_used</th>\n",
       "      <th>session_date</th>\n",
       "      <th>user_id</th>\n",
       "    </tr>\n",
       "  </thead>\n",
       "  <tbody>\n",
       "    <tr>\n",
       "      <th>0</th>\n",
       "      <td>1000_0</td>\n",
       "      <td>113</td>\n",
       "      <td>2018-11-25</td>\n",
       "      <td>1000</td>\n",
       "    </tr>\n",
       "    <tr>\n",
       "      <th>1</th>\n",
       "      <td>1000_1</td>\n",
       "      <td>1053</td>\n",
       "      <td>2018-09-07</td>\n",
       "      <td>1000</td>\n",
       "    </tr>\n",
       "    <tr>\n",
       "      <th>2</th>\n",
       "      <td>1000_2</td>\n",
       "      <td>1198</td>\n",
       "      <td>2018-06-25</td>\n",
       "      <td>1000</td>\n",
       "    </tr>\n",
       "    <tr>\n",
       "      <th>3</th>\n",
       "      <td>1000_3</td>\n",
       "      <td>551</td>\n",
       "      <td>2018-08-22</td>\n",
       "      <td>1000</td>\n",
       "    </tr>\n",
       "    <tr>\n",
       "      <th>4</th>\n",
       "      <td>1000_4</td>\n",
       "      <td>303</td>\n",
       "      <td>2018-09-24</td>\n",
       "      <td>1000</td>\n",
       "    </tr>\n",
       "    <tr>\n",
       "      <th>...</th>\n",
       "      <td>...</td>\n",
       "      <td>...</td>\n",
       "      <td>...</td>\n",
       "      <td>...</td>\n",
       "    </tr>\n",
       "    <tr>\n",
       "      <th>149391</th>\n",
       "      <td>1499_152</td>\n",
       "      <td>319</td>\n",
       "      <td>2018-10-03</td>\n",
       "      <td>1499</td>\n",
       "    </tr>\n",
       "    <tr>\n",
       "      <th>149392</th>\n",
       "      <td>1499_153</td>\n",
       "      <td>491</td>\n",
       "      <td>2018-12-14</td>\n",
       "      <td>1499</td>\n",
       "    </tr>\n",
       "    <tr>\n",
       "      <th>149393</th>\n",
       "      <td>1499_154</td>\n",
       "      <td>1</td>\n",
       "      <td>2018-10-27</td>\n",
       "      <td>1499</td>\n",
       "    </tr>\n",
       "    <tr>\n",
       "      <th>149394</th>\n",
       "      <td>1499_155</td>\n",
       "      <td>1247</td>\n",
       "      <td>2018-11-26</td>\n",
       "      <td>1499</td>\n",
       "    </tr>\n",
       "    <tr>\n",
       "      <th>149395</th>\n",
       "      <td>1499_156</td>\n",
       "      <td>545</td>\n",
       "      <td>2018-10-26</td>\n",
       "      <td>1499</td>\n",
       "    </tr>\n",
       "  </tbody>\n",
       "</table>\n",
       "<p>149396 rows × 4 columns</p>\n",
       "</div>"
      ],
      "text/plain": [
       "              id  mb_used session_date  user_id\n",
       "0         1000_0      113   2018-11-25     1000\n",
       "1         1000_1     1053   2018-09-07     1000\n",
       "2         1000_2     1198   2018-06-25     1000\n",
       "3         1000_3      551   2018-08-22     1000\n",
       "4         1000_4      303   2018-09-24     1000\n",
       "...          ...      ...          ...      ...\n",
       "149391  1499_152      319   2018-10-03     1499\n",
       "149392  1499_153      491   2018-12-14     1499\n",
       "149393  1499_154        1   2018-10-27     1499\n",
       "149394  1499_155     1247   2018-11-26     1499\n",
       "149395  1499_156      545   2018-10-26     1499\n",
       "\n",
       "[149396 rows x 4 columns]"
      ]
     },
     "execution_count": 27,
     "metadata": {},
     "output_type": "execute_result"
    }
   ],
   "source": [
    "# Приводим значения в порядок\n",
    "internet['mb_used'] = internet['mb_used'].apply(np.ceil).astype('int').replace(0, 1)\n",
    "internet"
   ]
  },
  {
   "cell_type": "markdown",
   "metadata": {},
   "source": [
    "## 3.2 Добавление дополнительных метрик для пользователей:\n",
    "- количество сделанных звонков и израсходованных минут разговора по месяцам;\n",
    "- количество отправленных сообщений по месяцам;\n",
    "- объем израсходованного интернет-трафика по месяцам;\n",
    "- помесячную выручку с каждого пользователя (вычтите бесплатный лимит из суммарного количества звонков, сообщений и интернет-трафика; остаток умножьте на значение из тарифного плана)."
   ]
  },
  {
   "cell_type": "markdown",
   "metadata": {},
   "source": [
    "### 3.2.1 Месячные показатели\n",
    "\n",
    "- Количество сделанных звонков и израсходованных минут разговора по месяцам\n",
    "\n",
    "- Количество отправленных сообщений по месяцам\n",
    "- Количество израсходанного трафика"
   ]
  },
  {
   "cell_type": "code",
   "execution_count": 28,
   "metadata": {},
   "outputs": [
    {
     "data": {
      "text/html": [
       "<div>\n",
       "<style scoped>\n",
       "    .dataframe tbody tr th:only-of-type {\n",
       "        vertical-align: middle;\n",
       "    }\n",
       "\n",
       "    .dataframe tbody tr th {\n",
       "        vertical-align: top;\n",
       "    }\n",
       "\n",
       "    .dataframe thead th {\n",
       "        text-align: right;\n",
       "    }\n",
       "</style>\n",
       "<table border=\"1\" class=\"dataframe\">\n",
       "  <thead>\n",
       "    <tr style=\"text-align: right;\">\n",
       "      <th></th>\n",
       "      <th>id</th>\n",
       "      <th>call_date</th>\n",
       "      <th>duration</th>\n",
       "      <th>user_id</th>\n",
       "      <th>month</th>\n",
       "    </tr>\n",
       "  </thead>\n",
       "  <tbody>\n",
       "    <tr>\n",
       "      <th>0</th>\n",
       "      <td>1000_0</td>\n",
       "      <td>2018-07-25</td>\n",
       "      <td>1</td>\n",
       "      <td>1000</td>\n",
       "      <td>7</td>\n",
       "    </tr>\n",
       "    <tr>\n",
       "      <th>1</th>\n",
       "      <td>1000_1</td>\n",
       "      <td>2018-08-17</td>\n",
       "      <td>1</td>\n",
       "      <td>1000</td>\n",
       "      <td>8</td>\n",
       "    </tr>\n",
       "    <tr>\n",
       "      <th>2</th>\n",
       "      <td>1000_2</td>\n",
       "      <td>2018-06-11</td>\n",
       "      <td>3</td>\n",
       "      <td>1000</td>\n",
       "      <td>6</td>\n",
       "    </tr>\n",
       "    <tr>\n",
       "      <th>3</th>\n",
       "      <td>1000_3</td>\n",
       "      <td>2018-09-21</td>\n",
       "      <td>14</td>\n",
       "      <td>1000</td>\n",
       "      <td>9</td>\n",
       "    </tr>\n",
       "    <tr>\n",
       "      <th>4</th>\n",
       "      <td>1000_4</td>\n",
       "      <td>2018-12-15</td>\n",
       "      <td>6</td>\n",
       "      <td>1000</td>\n",
       "      <td>12</td>\n",
       "    </tr>\n",
       "  </tbody>\n",
       "</table>\n",
       "</div>"
      ],
      "text/plain": [
       "       id  call_date  duration  user_id  month\n",
       "0  1000_0 2018-07-25         1     1000      7\n",
       "1  1000_1 2018-08-17         1     1000      8\n",
       "2  1000_2 2018-06-11         3     1000      6\n",
       "3  1000_3 2018-09-21        14     1000      9\n",
       "4  1000_4 2018-12-15         6     1000     12"
      ]
     },
     "execution_count": 28,
     "metadata": {},
     "output_type": "execute_result"
    }
   ],
   "source": [
    "calls['month'] = calls['call_date'].dt.month\n",
    "calls.head()"
   ]
  },
  {
   "cell_type": "code",
   "execution_count": 29,
   "metadata": {},
   "outputs": [
    {
     "data": {
      "text/html": [
       "<div>\n",
       "<style scoped>\n",
       "    .dataframe tbody tr th:only-of-type {\n",
       "        vertical-align: middle;\n",
       "    }\n",
       "\n",
       "    .dataframe tbody tr th {\n",
       "        vertical-align: top;\n",
       "    }\n",
       "\n",
       "    .dataframe thead th {\n",
       "        text-align: right;\n",
       "    }\n",
       "</style>\n",
       "<table border=\"1\" class=\"dataframe\">\n",
       "  <thead>\n",
       "    <tr style=\"text-align: right;\">\n",
       "      <th></th>\n",
       "      <th>id</th>\n",
       "      <th>message_date</th>\n",
       "      <th>user_id</th>\n",
       "      <th>month</th>\n",
       "    </tr>\n",
       "  </thead>\n",
       "  <tbody>\n",
       "    <tr>\n",
       "      <th>0</th>\n",
       "      <td>1000_0</td>\n",
       "      <td>2018-06-27</td>\n",
       "      <td>1000</td>\n",
       "      <td>6</td>\n",
       "    </tr>\n",
       "    <tr>\n",
       "      <th>1</th>\n",
       "      <td>1000_1</td>\n",
       "      <td>2018-10-08</td>\n",
       "      <td>1000</td>\n",
       "      <td>10</td>\n",
       "    </tr>\n",
       "    <tr>\n",
       "      <th>2</th>\n",
       "      <td>1000_2</td>\n",
       "      <td>2018-08-04</td>\n",
       "      <td>1000</td>\n",
       "      <td>8</td>\n",
       "    </tr>\n",
       "    <tr>\n",
       "      <th>3</th>\n",
       "      <td>1000_3</td>\n",
       "      <td>2018-06-16</td>\n",
       "      <td>1000</td>\n",
       "      <td>6</td>\n",
       "    </tr>\n",
       "    <tr>\n",
       "      <th>4</th>\n",
       "      <td>1000_4</td>\n",
       "      <td>2018-12-05</td>\n",
       "      <td>1000</td>\n",
       "      <td>12</td>\n",
       "    </tr>\n",
       "  </tbody>\n",
       "</table>\n",
       "</div>"
      ],
      "text/plain": [
       "       id message_date  user_id  month\n",
       "0  1000_0   2018-06-27     1000      6\n",
       "1  1000_1   2018-10-08     1000     10\n",
       "2  1000_2   2018-08-04     1000      8\n",
       "3  1000_3   2018-06-16     1000      6\n",
       "4  1000_4   2018-12-05     1000     12"
      ]
     },
     "execution_count": 29,
     "metadata": {},
     "output_type": "execute_result"
    }
   ],
   "source": [
    "messages['month'] = messages['message_date'].dt.month\n",
    "messages.head()"
   ]
  },
  {
   "cell_type": "code",
   "execution_count": 30,
   "metadata": {},
   "outputs": [
    {
     "data": {
      "text/html": [
       "<div>\n",
       "<style scoped>\n",
       "    .dataframe tbody tr th:only-of-type {\n",
       "        vertical-align: middle;\n",
       "    }\n",
       "\n",
       "    .dataframe tbody tr th {\n",
       "        vertical-align: top;\n",
       "    }\n",
       "\n",
       "    .dataframe thead th {\n",
       "        text-align: right;\n",
       "    }\n",
       "</style>\n",
       "<table border=\"1\" class=\"dataframe\">\n",
       "  <thead>\n",
       "    <tr style=\"text-align: right;\">\n",
       "      <th></th>\n",
       "      <th>id</th>\n",
       "      <th>mb_used</th>\n",
       "      <th>session_date</th>\n",
       "      <th>user_id</th>\n",
       "      <th>month</th>\n",
       "    </tr>\n",
       "  </thead>\n",
       "  <tbody>\n",
       "    <tr>\n",
       "      <th>0</th>\n",
       "      <td>1000_0</td>\n",
       "      <td>113</td>\n",
       "      <td>2018-11-25</td>\n",
       "      <td>1000</td>\n",
       "      <td>11</td>\n",
       "    </tr>\n",
       "    <tr>\n",
       "      <th>1</th>\n",
       "      <td>1000_1</td>\n",
       "      <td>1053</td>\n",
       "      <td>2018-09-07</td>\n",
       "      <td>1000</td>\n",
       "      <td>9</td>\n",
       "    </tr>\n",
       "    <tr>\n",
       "      <th>2</th>\n",
       "      <td>1000_2</td>\n",
       "      <td>1198</td>\n",
       "      <td>2018-06-25</td>\n",
       "      <td>1000</td>\n",
       "      <td>6</td>\n",
       "    </tr>\n",
       "    <tr>\n",
       "      <th>3</th>\n",
       "      <td>1000_3</td>\n",
       "      <td>551</td>\n",
       "      <td>2018-08-22</td>\n",
       "      <td>1000</td>\n",
       "      <td>8</td>\n",
       "    </tr>\n",
       "    <tr>\n",
       "      <th>4</th>\n",
       "      <td>1000_4</td>\n",
       "      <td>303</td>\n",
       "      <td>2018-09-24</td>\n",
       "      <td>1000</td>\n",
       "      <td>9</td>\n",
       "    </tr>\n",
       "  </tbody>\n",
       "</table>\n",
       "</div>"
      ],
      "text/plain": [
       "       id  mb_used session_date  user_id  month\n",
       "0  1000_0      113   2018-11-25     1000     11\n",
       "1  1000_1     1053   2018-09-07     1000      9\n",
       "2  1000_2     1198   2018-06-25     1000      6\n",
       "3  1000_3      551   2018-08-22     1000      8\n",
       "4  1000_4      303   2018-09-24     1000      9"
      ]
     },
     "execution_count": 30,
     "metadata": {},
     "output_type": "execute_result"
    }
   ],
   "source": [
    "internet['month'] = internet['session_date'].dt.month\n",
    "internet.head()"
   ]
  },
  {
   "cell_type": "markdown",
   "metadata": {},
   "source": [
    "### Группируем данные\n",
    "- Существует множество вариантов для группировки и создания таблиц, но для дальнейшего обучения моделей лучше выделять признаки в отдельный столбец а для статистической оценки строками"
   ]
  },
  {
   "cell_type": "markdown",
   "metadata": {},
   "source": [
    "### Звонки"
   ]
  },
  {
   "cell_type": "code",
   "execution_count": 31,
   "metadata": {
    "scrolled": false
   },
   "outputs": [
    {
     "data": {
      "text/html": [
       "<div>\n",
       "<style scoped>\n",
       "    .dataframe tbody tr th:only-of-type {\n",
       "        vertical-align: middle;\n",
       "    }\n",
       "\n",
       "    .dataframe tbody tr th {\n",
       "        vertical-align: top;\n",
       "    }\n",
       "\n",
       "    .dataframe thead th {\n",
       "        text-align: right;\n",
       "    }\n",
       "</style>\n",
       "<table border=\"1\" class=\"dataframe\">\n",
       "  <thead>\n",
       "    <tr style=\"text-align: right;\">\n",
       "      <th></th>\n",
       "      <th>month</th>\n",
       "      <th>user_id</th>\n",
       "      <th>count_calls</th>\n",
       "      <th>minutes_calls</th>\n",
       "    </tr>\n",
       "  </thead>\n",
       "  <tbody>\n",
       "    <tr>\n",
       "      <th>0</th>\n",
       "      <td>1</td>\n",
       "      <td>1005</td>\n",
       "      <td>15</td>\n",
       "      <td>99</td>\n",
       "    </tr>\n",
       "    <tr>\n",
       "      <th>1</th>\n",
       "      <td>1</td>\n",
       "      <td>1032</td>\n",
       "      <td>61</td>\n",
       "      <td>397</td>\n",
       "    </tr>\n",
       "  </tbody>\n",
       "</table>\n",
       "</div>"
      ],
      "text/plain": [
       "   month  user_id  count_calls  minutes_calls\n",
       "0      1     1005           15             99\n",
       "1      1     1032           61            397"
      ]
     },
     "execution_count": 31,
     "metadata": {},
     "output_type": "execute_result"
    }
   ],
   "source": [
    "calls_month = calls.pivot_table(index=['month', 'user_id'], \n",
    "                                values='duration',\n",
    "                                aggfunc=['count', 'sum'],\n",
    "                                fill_value = 0)\n",
    "calls_month = pd.DataFrame(calls_month.to_records())\n",
    "## Переименуем столбцы\n",
    "calls_month['count_calls'] = calls_month.iloc[:,2]\n",
    "calls_month['minutes_calls'] = calls_month.iloc[:,3]\n",
    "calls_month.drop(calls_month.columns[2:4], axis=1, inplace=True)\n",
    "calls_month.head(2)"
   ]
  },
  {
   "cell_type": "markdown",
   "metadata": {},
   "source": [
    "### Сообщения"
   ]
  },
  {
   "cell_type": "code",
   "execution_count": 32,
   "metadata": {},
   "outputs": [
    {
     "data": {
      "text/html": [
       "<div>\n",
       "<style scoped>\n",
       "    .dataframe tbody tr th:only-of-type {\n",
       "        vertical-align: middle;\n",
       "    }\n",
       "\n",
       "    .dataframe tbody tr th {\n",
       "        vertical-align: top;\n",
       "    }\n",
       "\n",
       "    .dataframe thead th {\n",
       "        text-align: right;\n",
       "    }\n",
       "</style>\n",
       "<table border=\"1\" class=\"dataframe\">\n",
       "  <thead>\n",
       "    <tr style=\"text-align: right;\">\n",
       "      <th></th>\n",
       "      <th>month</th>\n",
       "      <th>user_id</th>\n",
       "      <th>count_messages</th>\n",
       "    </tr>\n",
       "  </thead>\n",
       "  <tbody>\n",
       "    <tr>\n",
       "      <th>0</th>\n",
       "      <td>1</td>\n",
       "      <td>1005</td>\n",
       "      <td>7</td>\n",
       "    </tr>\n",
       "    <tr>\n",
       "      <th>1</th>\n",
       "      <td>1</td>\n",
       "      <td>1032</td>\n",
       "      <td>38</td>\n",
       "    </tr>\n",
       "  </tbody>\n",
       "</table>\n",
       "</div>"
      ],
      "text/plain": [
       "   month  user_id  count_messages\n",
       "0      1     1005               7\n",
       "1      1     1032              38"
      ]
     },
     "execution_count": 32,
     "metadata": {},
     "output_type": "execute_result"
    }
   ],
   "source": [
    "messages_month = messages.pivot_table(index=['month','user_id'], \n",
    "                                      values='id',\n",
    "                                      aggfunc='count',\n",
    "                                      fill_value = 0)\n",
    "messages_month = pd.DataFrame(messages_month.to_records())\n",
    "messages_month.rename({'id': 'count_messages'}, axis=1, inplace=True)\n",
    "messages_month.head(2)"
   ]
  },
  {
   "cell_type": "markdown",
   "metadata": {},
   "source": [
    "### Интернет"
   ]
  },
  {
   "cell_type": "code",
   "execution_count": 33,
   "metadata": {},
   "outputs": [
    {
     "data": {
      "text/html": [
       "<div>\n",
       "<style scoped>\n",
       "    .dataframe tbody tr th:only-of-type {\n",
       "        vertical-align: middle;\n",
       "    }\n",
       "\n",
       "    .dataframe tbody tr th {\n",
       "        vertical-align: top;\n",
       "    }\n",
       "\n",
       "    .dataframe thead th {\n",
       "        text-align: right;\n",
       "    }\n",
       "</style>\n",
       "<table border=\"1\" class=\"dataframe\">\n",
       "  <thead>\n",
       "    <tr style=\"text-align: right;\">\n",
       "      <th></th>\n",
       "      <th>month</th>\n",
       "      <th>user_id</th>\n",
       "      <th>mb_used</th>\n",
       "    </tr>\n",
       "  </thead>\n",
       "  <tbody>\n",
       "    <tr>\n",
       "      <th>0</th>\n",
       "      <td>1</td>\n",
       "      <td>1005</td>\n",
       "      <td>2730</td>\n",
       "    </tr>\n",
       "    <tr>\n",
       "      <th>1</th>\n",
       "      <td>1</td>\n",
       "      <td>1032</td>\n",
       "      <td>24158</td>\n",
       "    </tr>\n",
       "  </tbody>\n",
       "</table>\n",
       "</div>"
      ],
      "text/plain": [
       "   month  user_id  mb_used\n",
       "0      1     1005     2730\n",
       "1      1     1032    24158"
      ]
     },
     "execution_count": 33,
     "metadata": {},
     "output_type": "execute_result"
    }
   ],
   "source": [
    "internet_month = internet.pivot_table(index=['month', 'user_id'],\n",
    "                                      values='mb_used',\n",
    "                                      aggfunc='sum',\n",
    "                                      fill_value = 0)\n",
    "internet_month = pd.DataFrame(internet_month.to_records())\n",
    "internet_month.head(2)"
   ]
  },
  {
   "cell_type": "code",
   "execution_count": 34,
   "metadata": {},
   "outputs": [
    {
     "data": {
      "text/plain": [
       "(3174, 2717, 3203)"
      ]
     },
     "execution_count": 34,
     "metadata": {},
     "output_type": "execute_result"
    }
   ],
   "source": [
    "len(calls_month), len(messages_month), len(internet_month)"
   ]
  },
  {
   "cell_type": "markdown",
   "metadata": {},
   "source": [
    "### Обьединяем данные для анализа"
   ]
  },
  {
   "cell_type": "code",
   "execution_count": 35,
   "metadata": {},
   "outputs": [],
   "source": [
    "df = ( \n",
    "        calls_month.merge(messages_month, how='outer', on=['user_id', 'month'])\n",
    "                   .merge(internet_month, how='outer', on=['user_id', 'month'])\n",
    "      )"
   ]
  },
  {
   "cell_type": "code",
   "execution_count": 36,
   "metadata": {},
   "outputs": [
    {
     "name": "stdout",
     "output_type": "stream",
     "text": [
      "<class 'pandas.core.frame.DataFrame'>\n",
      "Int64Index: 3214 entries, 0 to 3213\n",
      "Data columns (total 6 columns):\n",
      " #   Column          Non-Null Count  Dtype  \n",
      "---  ------          --------------  -----  \n",
      " 0   month           3214 non-null   int64  \n",
      " 1   user_id         3214 non-null   int64  \n",
      " 2   count_calls     3174 non-null   float64\n",
      " 3   minutes_calls   3174 non-null   float64\n",
      " 4   count_messages  2717 non-null   float64\n",
      " 5   mb_used         3203 non-null   float64\n",
      "dtypes: float64(4), int64(2)\n",
      "memory usage: 175.8 KB\n"
     ]
    }
   ],
   "source": [
    "# Пропуски заменяем на 0\n",
    "df.info()"
   ]
  },
  {
   "cell_type": "code",
   "execution_count": 37,
   "metadata": {},
   "outputs": [],
   "source": [
    "df.fillna(0, inplace=True)"
   ]
  },
  {
   "cell_type": "markdown",
   "metadata": {},
   "source": [
    "### 3.2.2 Помесячная выручка с каждого пользователя \n",
    "\n",
    "- (вычтите бесплатный лимит из суммарного количества звонков, сообщений и интернет-трафика; остаток умножьте на значение из тарифного плана)."
   ]
  },
  {
   "cell_type": "markdown",
   "metadata": {},
   "source": [
    "### Добавим тариф и данные по тарифу"
   ]
  },
  {
   "cell_type": "code",
   "execution_count": 38,
   "metadata": {},
   "outputs": [],
   "source": [
    "temp = users[['user_id', 'tariff']]"
   ]
  },
  {
   "cell_type": "code",
   "execution_count": 39,
   "metadata": {
    "scrolled": true
   },
   "outputs": [],
   "source": [
    "# Добавляем тариф\n",
    "df = df.merge(temp, on='user_id', how='left')\n"
   ]
  },
  {
   "cell_type": "code",
   "execution_count": 40,
   "metadata": {},
   "outputs": [],
   "source": [
    "df = df.rename(columns={'tariff': 'tariff_name'})"
   ]
  },
  {
   "cell_type": "code",
   "execution_count": 41,
   "metadata": {},
   "outputs": [
    {
     "data": {
      "text/html": [
       "<div>\n",
       "<style scoped>\n",
       "    .dataframe tbody tr th:only-of-type {\n",
       "        vertical-align: middle;\n",
       "    }\n",
       "\n",
       "    .dataframe tbody tr th {\n",
       "        vertical-align: top;\n",
       "    }\n",
       "\n",
       "    .dataframe thead th {\n",
       "        text-align: right;\n",
       "    }\n",
       "</style>\n",
       "<table border=\"1\" class=\"dataframe\">\n",
       "  <thead>\n",
       "    <tr style=\"text-align: right;\">\n",
       "      <th></th>\n",
       "      <th>month</th>\n",
       "      <th>user_id</th>\n",
       "      <th>count_calls</th>\n",
       "      <th>minutes_calls</th>\n",
       "      <th>count_messages</th>\n",
       "      <th>mb_used</th>\n",
       "      <th>tariff_name</th>\n",
       "    </tr>\n",
       "  </thead>\n",
       "  <tbody>\n",
       "    <tr>\n",
       "      <th>0</th>\n",
       "      <td>1</td>\n",
       "      <td>1005</td>\n",
       "      <td>15.0</td>\n",
       "      <td>99.0</td>\n",
       "      <td>7.0</td>\n",
       "      <td>2730.0</td>\n",
       "      <td>smart</td>\n",
       "    </tr>\n",
       "    <tr>\n",
       "      <th>1</th>\n",
       "      <td>1</td>\n",
       "      <td>1032</td>\n",
       "      <td>61.0</td>\n",
       "      <td>397.0</td>\n",
       "      <td>38.0</td>\n",
       "      <td>24158.0</td>\n",
       "      <td>smart</td>\n",
       "    </tr>\n",
       "  </tbody>\n",
       "</table>\n",
       "</div>"
      ],
      "text/plain": [
       "   month  user_id  count_calls  minutes_calls  count_messages  mb_used  \\\n",
       "0      1     1005         15.0           99.0             7.0   2730.0   \n",
       "1      1     1032         61.0          397.0            38.0  24158.0   \n",
       "\n",
       "  tariff_name  \n",
       "0       smart  \n",
       "1       smart  "
      ]
     },
     "execution_count": 41,
     "metadata": {},
     "output_type": "execute_result"
    }
   ],
   "source": [
    "df.head(2)"
   ]
  },
  {
   "cell_type": "code",
   "execution_count": 42,
   "metadata": {},
   "outputs": [
    {
     "data": {
      "text/html": [
       "<div>\n",
       "<style scoped>\n",
       "    .dataframe tbody tr th:only-of-type {\n",
       "        vertical-align: middle;\n",
       "    }\n",
       "\n",
       "    .dataframe tbody tr th {\n",
       "        vertical-align: top;\n",
       "    }\n",
       "\n",
       "    .dataframe thead th {\n",
       "        text-align: right;\n",
       "    }\n",
       "</style>\n",
       "<table border=\"1\" class=\"dataframe\">\n",
       "  <thead>\n",
       "    <tr style=\"text-align: right;\">\n",
       "      <th></th>\n",
       "      <th>messages_included</th>\n",
       "      <th>mg_per_month_included</th>\n",
       "      <th>minutes_included</th>\n",
       "      <th>rub_monthly_fee</th>\n",
       "      <th>rub_per_gb</th>\n",
       "      <th>rub_per_message</th>\n",
       "      <th>rub_per_minute</th>\n",
       "      <th>tariff_name</th>\n",
       "    </tr>\n",
       "  </thead>\n",
       "  <tbody>\n",
       "    <tr>\n",
       "      <th>0</th>\n",
       "      <td>50</td>\n",
       "      <td>15360</td>\n",
       "      <td>500</td>\n",
       "      <td>550</td>\n",
       "      <td>200</td>\n",
       "      <td>3</td>\n",
       "      <td>3</td>\n",
       "      <td>smart</td>\n",
       "    </tr>\n",
       "    <tr>\n",
       "      <th>1</th>\n",
       "      <td>1000</td>\n",
       "      <td>30720</td>\n",
       "      <td>3000</td>\n",
       "      <td>1950</td>\n",
       "      <td>150</td>\n",
       "      <td>1</td>\n",
       "      <td>1</td>\n",
       "      <td>ultra</td>\n",
       "    </tr>\n",
       "  </tbody>\n",
       "</table>\n",
       "</div>"
      ],
      "text/plain": [
       "   messages_included  mg_per_month_included  minutes_included  \\\n",
       "0                 50                  15360               500   \n",
       "1               1000                  30720              3000   \n",
       "\n",
       "   rub_monthly_fee  rub_per_gb  rub_per_message  rub_per_minute tariff_name  \n",
       "0              550         200                3               3       smart  \n",
       "1             1950         150                1               1       ultra  "
      ]
     },
     "execution_count": 42,
     "metadata": {},
     "output_type": "execute_result"
    }
   ],
   "source": [
    "tariffs"
   ]
  },
  {
   "cell_type": "code",
   "execution_count": 43,
   "metadata": {},
   "outputs": [],
   "source": [
    "df = df.merge(tariffs, on='tariff_name', how='left')"
   ]
  },
  {
   "cell_type": "code",
   "execution_count": 44,
   "metadata": {},
   "outputs": [
    {
     "data": {
      "text/html": [
       "<div>\n",
       "<style scoped>\n",
       "    .dataframe tbody tr th:only-of-type {\n",
       "        vertical-align: middle;\n",
       "    }\n",
       "\n",
       "    .dataframe tbody tr th {\n",
       "        vertical-align: top;\n",
       "    }\n",
       "\n",
       "    .dataframe thead th {\n",
       "        text-align: right;\n",
       "    }\n",
       "</style>\n",
       "<table border=\"1\" class=\"dataframe\">\n",
       "  <thead>\n",
       "    <tr style=\"text-align: right;\">\n",
       "      <th></th>\n",
       "      <th>month</th>\n",
       "      <th>user_id</th>\n",
       "      <th>count_calls</th>\n",
       "      <th>minutes_calls</th>\n",
       "      <th>count_messages</th>\n",
       "      <th>mb_used</th>\n",
       "      <th>tariff_name</th>\n",
       "      <th>messages_included</th>\n",
       "      <th>mg_per_month_included</th>\n",
       "      <th>minutes_included</th>\n",
       "      <th>rub_monthly_fee</th>\n",
       "      <th>rub_per_gb</th>\n",
       "      <th>rub_per_message</th>\n",
       "      <th>rub_per_minute</th>\n",
       "    </tr>\n",
       "  </thead>\n",
       "  <tbody>\n",
       "    <tr>\n",
       "      <th>0</th>\n",
       "      <td>1</td>\n",
       "      <td>1005</td>\n",
       "      <td>15.0</td>\n",
       "      <td>99.0</td>\n",
       "      <td>7.0</td>\n",
       "      <td>2730.0</td>\n",
       "      <td>smart</td>\n",
       "      <td>50</td>\n",
       "      <td>15360</td>\n",
       "      <td>500</td>\n",
       "      <td>550</td>\n",
       "      <td>200</td>\n",
       "      <td>3</td>\n",
       "      <td>3</td>\n",
       "    </tr>\n",
       "    <tr>\n",
       "      <th>1</th>\n",
       "      <td>1</td>\n",
       "      <td>1032</td>\n",
       "      <td>61.0</td>\n",
       "      <td>397.0</td>\n",
       "      <td>38.0</td>\n",
       "      <td>24158.0</td>\n",
       "      <td>smart</td>\n",
       "      <td>50</td>\n",
       "      <td>15360</td>\n",
       "      <td>500</td>\n",
       "      <td>550</td>\n",
       "      <td>200</td>\n",
       "      <td>3</td>\n",
       "      <td>3</td>\n",
       "    </tr>\n",
       "    <tr>\n",
       "      <th>2</th>\n",
       "      <td>1</td>\n",
       "      <td>1045</td>\n",
       "      <td>1.0</td>\n",
       "      <td>9.0</td>\n",
       "      <td>5.0</td>\n",
       "      <td>2348.0</td>\n",
       "      <td>smart</td>\n",
       "      <td>50</td>\n",
       "      <td>15360</td>\n",
       "      <td>500</td>\n",
       "      <td>550</td>\n",
       "      <td>200</td>\n",
       "      <td>3</td>\n",
       "      <td>3</td>\n",
       "    </tr>\n",
       "    <tr>\n",
       "      <th>3</th>\n",
       "      <td>1</td>\n",
       "      <td>1055</td>\n",
       "      <td>64.0</td>\n",
       "      <td>568.0</td>\n",
       "      <td>30.0</td>\n",
       "      <td>17115.0</td>\n",
       "      <td>smart</td>\n",
       "      <td>50</td>\n",
       "      <td>15360</td>\n",
       "      <td>500</td>\n",
       "      <td>550</td>\n",
       "      <td>200</td>\n",
       "      <td>3</td>\n",
       "      <td>3</td>\n",
       "    </tr>\n",
       "    <tr>\n",
       "      <th>4</th>\n",
       "      <td>1</td>\n",
       "      <td>1071</td>\n",
       "      <td>24.0</td>\n",
       "      <td>200.0</td>\n",
       "      <td>16.0</td>\n",
       "      <td>15625.0</td>\n",
       "      <td>smart</td>\n",
       "      <td>50</td>\n",
       "      <td>15360</td>\n",
       "      <td>500</td>\n",
       "      <td>550</td>\n",
       "      <td>200</td>\n",
       "      <td>3</td>\n",
       "      <td>3</td>\n",
       "    </tr>\n",
       "  </tbody>\n",
       "</table>\n",
       "</div>"
      ],
      "text/plain": [
       "   month  user_id  count_calls  minutes_calls  count_messages  mb_used  \\\n",
       "0      1     1005         15.0           99.0             7.0   2730.0   \n",
       "1      1     1032         61.0          397.0            38.0  24158.0   \n",
       "2      1     1045          1.0            9.0             5.0   2348.0   \n",
       "3      1     1055         64.0          568.0            30.0  17115.0   \n",
       "4      1     1071         24.0          200.0            16.0  15625.0   \n",
       "\n",
       "  tariff_name  messages_included  mg_per_month_included  minutes_included  \\\n",
       "0       smart                 50                  15360               500   \n",
       "1       smart                 50                  15360               500   \n",
       "2       smart                 50                  15360               500   \n",
       "3       smart                 50                  15360               500   \n",
       "4       smart                 50                  15360               500   \n",
       "\n",
       "   rub_monthly_fee  rub_per_gb  rub_per_message  rub_per_minute  \n",
       "0              550         200                3               3  \n",
       "1              550         200                3               3  \n",
       "2              550         200                3               3  \n",
       "3              550         200                3               3  \n",
       "4              550         200                3               3  "
      ]
     },
     "execution_count": 44,
     "metadata": {},
     "output_type": "execute_result"
    }
   ],
   "source": [
    "df.head(5)"
   ]
  },
  {
   "cell_type": "markdown",
   "metadata": {},
   "source": [
    "### Расчитываем стоимость услуг согласно тарифов"
   ]
  },
  {
   "cell_type": "code",
   "execution_count": 45,
   "metadata": {},
   "outputs": [],
   "source": [
    "def profit_calls(row):\n",
    "    \"\"\"\n",
    "    Функция возвращает выручку по звонкам по месяцам\n",
    "    \"\"\"\n",
    "    if row['minutes_calls'] > row['minutes_included']:\n",
    "        minutes = row['minutes_calls'] - row['minutes_included']\n",
    "        # минуты сверх лимита\n",
    "        row['calls_over_limit'] = minutes\n",
    "        # стоимость месяца по тарифу + \n",
    "        row['cost_calls'] = minutes * row['rub_per_minute']\n",
    "        return row\n",
    "    else:\n",
    "        row['cost_calls'] = 0\n",
    "        return row"
   ]
  },
  {
   "cell_type": "code",
   "execution_count": 46,
   "metadata": {},
   "outputs": [],
   "source": [
    "def profit_messages(row):\n",
    "    \"\"\"\n",
    "    Функция возвращает выручку по сообщениям по месяцам\n",
    "    \"\"\"\n",
    "    if row['count_messages'] > row['messages_included']:\n",
    "        messages = row['count_messages'] - row['messages_included']\n",
    "        # смс сверх лимита\n",
    "        row['messages_over_limit'] = messages\n",
    "        # стоимость месяца по тарифу +\n",
    "        row['cost_messages'] = messages * row['rub_per_message']\n",
    "        return row\n",
    "    else:\n",
    "        row['cost_messages'] = 0\n",
    "        return row"
   ]
  },
  {
   "cell_type": "code",
   "execution_count": 47,
   "metadata": {},
   "outputs": [],
   "source": [
    "def profit_internet(row):\n",
    "    \"\"\"\n",
    "    Функция возвращает выручку по интернет трафику по месяцам\n",
    "    \"\"\"\n",
    "    if row['mb_used'] > row['mg_per_month_included']:\n",
    "        mb = row['mb_used'] - row['mg_per_month_included']\n",
    "        # смс сверх лимита\n",
    "        row['mb_over_limit'] = mb\n",
    "        # стоимость месяца по тарифу +\n",
    "        row['cost_internet'] = np.ceil(mb/1024) * row['rub_per_gb']\n",
    "        return row\n",
    "    else:\n",
    "        row['cost_internet'] = 0\n",
    "        return row"
   ]
  },
  {
   "cell_type": "code",
   "execution_count": 48,
   "metadata": {},
   "outputs": [],
   "source": [
    "df = df.apply(profit_calls, axis=1)\n",
    "df = df.apply(profit_messages, axis=1)\n",
    "df = df.apply(profit_internet, axis=1)"
   ]
  },
  {
   "cell_type": "code",
   "execution_count": 49,
   "metadata": {},
   "outputs": [],
   "source": [
    "df.fillna(0, inplace=True)"
   ]
  },
  {
   "cell_type": "code",
   "execution_count": 50,
   "metadata": {},
   "outputs": [],
   "source": [
    "df['additional_services'] = (df['cost_internet'] +\n",
    "                             df['cost_messages'] +\n",
    "                             df['cost_calls']\n",
    "                            )\n",
    "                             \n",
    "df['total_paid'] = df['additional_services'] + df['rub_monthly_fee']"
   ]
  },
  {
   "cell_type": "code",
   "execution_count": 51,
   "metadata": {},
   "outputs": [],
   "source": [
    "df = df.merge(users, on='user_id', how='left')\n",
    "df.drop(['tariff'], axis=1, inplace=True)"
   ]
  },
  {
   "cell_type": "markdown",
   "metadata": {},
   "source": [
    "### Отбираем нужные столбцы для дальнейшей статистической оценки\n"
   ]
  },
  {
   "cell_type": "code",
   "execution_count": 52,
   "metadata": {
    "scrolled": true
   },
   "outputs": [],
   "source": [
    "df.columns.tolist()\n",
    "list_columns = [ \n",
    "                'user_id',\n",
    "                'age',\n",
    "                'tariff_name',\n",
    "                'city',\n",
    "                'month',\n",
    "                'minutes_calls',\n",
    "                'count_calls',\n",
    "                'cost_calls',\n",
    "                'count_messages',\n",
    "                'cost_messages',\n",
    "                'mb_used',\n",
    "                'cost_internet',\n",
    "                'additional_services',\n",
    "                'total_paid',\n",
    "                'churn_date'\n",
    "]"
   ]
  },
  {
   "cell_type": "code",
   "execution_count": 53,
   "metadata": {},
   "outputs": [],
   "source": [
    "data = df[list_columns]"
   ]
  },
  {
   "cell_type": "markdown",
   "metadata": {},
   "source": [
    "<a name=\"4\"></a>\n",
    "# 4. Исследовательский анализ данных\n",
    "\n",
    "[К оглавлению](#1)\n",
    "\n",
    "- Опишите поведение клиентов оператора, исходя из выборки.\n",
    "- Сколько минут разговора, сколько сообщений и какой объём интернет-трафика требуется пользователям каждого тарифа в месяц?\n",
    "- Посчитайте среднее количество, дисперсию и стандартное отклонение. Постройте гистограммы. \n",
    "\n",
    "\n",
    "- data - выборка\n",
    "- df - более полные данные"
   ]
  },
  {
   "cell_type": "code",
   "execution_count": 73,
   "metadata": {},
   "outputs": [
    {
     "data": {
      "text/html": [
       "<div>\n",
       "<style scoped>\n",
       "    .dataframe tbody tr th:only-of-type {\n",
       "        vertical-align: middle;\n",
       "    }\n",
       "\n",
       "    .dataframe tbody tr th {\n",
       "        vertical-align: top;\n",
       "    }\n",
       "\n",
       "    .dataframe thead th {\n",
       "        text-align: right;\n",
       "    }\n",
       "</style>\n",
       "<table border=\"1\" class=\"dataframe\">\n",
       "  <thead>\n",
       "    <tr style=\"text-align: right;\">\n",
       "      <th></th>\n",
       "      <th>user_id</th>\n",
       "      <th>age</th>\n",
       "      <th>tariff_name</th>\n",
       "      <th>city</th>\n",
       "      <th>month</th>\n",
       "      <th>minutes_calls</th>\n",
       "      <th>count_calls</th>\n",
       "      <th>cost_calls</th>\n",
       "      <th>count_messages</th>\n",
       "      <th>cost_messages</th>\n",
       "      <th>mb_used</th>\n",
       "      <th>cost_internet</th>\n",
       "      <th>additional_services</th>\n",
       "      <th>total_paid</th>\n",
       "      <th>churn_date</th>\n",
       "      <th>region</th>\n",
       "    </tr>\n",
       "  </thead>\n",
       "  <tbody>\n",
       "    <tr>\n",
       "      <th>0</th>\n",
       "      <td>1005</td>\n",
       "      <td>67</td>\n",
       "      <td>smart</td>\n",
       "      <td>Набережные Челны</td>\n",
       "      <td>1</td>\n",
       "      <td>99.0</td>\n",
       "      <td>15.0</td>\n",
       "      <td>0.0</td>\n",
       "      <td>7.0</td>\n",
       "      <td>0.0</td>\n",
       "      <td>2730.0</td>\n",
       "      <td>0.0</td>\n",
       "      <td>0.0</td>\n",
       "      <td>550.0</td>\n",
       "      <td>False</td>\n",
       "      <td>other</td>\n",
       "    </tr>\n",
       "    <tr>\n",
       "      <th>1</th>\n",
       "      <td>1032</td>\n",
       "      <td>31</td>\n",
       "      <td>smart</td>\n",
       "      <td>Ульяновск</td>\n",
       "      <td>1</td>\n",
       "      <td>397.0</td>\n",
       "      <td>61.0</td>\n",
       "      <td>0.0</td>\n",
       "      <td>38.0</td>\n",
       "      <td>0.0</td>\n",
       "      <td>24158.0</td>\n",
       "      <td>1800.0</td>\n",
       "      <td>1800.0</td>\n",
       "      <td>2350.0</td>\n",
       "      <td>False</td>\n",
       "      <td>other</td>\n",
       "    </tr>\n",
       "    <tr>\n",
       "      <th>2</th>\n",
       "      <td>1045</td>\n",
       "      <td>48</td>\n",
       "      <td>smart</td>\n",
       "      <td>Улан-Удэ</td>\n",
       "      <td>1</td>\n",
       "      <td>9.0</td>\n",
       "      <td>1.0</td>\n",
       "      <td>0.0</td>\n",
       "      <td>5.0</td>\n",
       "      <td>0.0</td>\n",
       "      <td>2348.0</td>\n",
       "      <td>0.0</td>\n",
       "      <td>0.0</td>\n",
       "      <td>550.0</td>\n",
       "      <td>False</td>\n",
       "      <td>other</td>\n",
       "    </tr>\n",
       "    <tr>\n",
       "      <th>3</th>\n",
       "      <td>1055</td>\n",
       "      <td>39</td>\n",
       "      <td>smart</td>\n",
       "      <td>Казань</td>\n",
       "      <td>1</td>\n",
       "      <td>568.0</td>\n",
       "      <td>64.0</td>\n",
       "      <td>204.0</td>\n",
       "      <td>30.0</td>\n",
       "      <td>0.0</td>\n",
       "      <td>17115.0</td>\n",
       "      <td>400.0</td>\n",
       "      <td>604.0</td>\n",
       "      <td>1154.0</td>\n",
       "      <td>False</td>\n",
       "      <td>other</td>\n",
       "    </tr>\n",
       "    <tr>\n",
       "      <th>4</th>\n",
       "      <td>1071</td>\n",
       "      <td>20</td>\n",
       "      <td>smart</td>\n",
       "      <td>Омск</td>\n",
       "      <td>1</td>\n",
       "      <td>200.0</td>\n",
       "      <td>24.0</td>\n",
       "      <td>0.0</td>\n",
       "      <td>16.0</td>\n",
       "      <td>0.0</td>\n",
       "      <td>15625.0</td>\n",
       "      <td>200.0</td>\n",
       "      <td>200.0</td>\n",
       "      <td>750.0</td>\n",
       "      <td>True</td>\n",
       "      <td>other</td>\n",
       "    </tr>\n",
       "  </tbody>\n",
       "</table>\n",
       "</div>"
      ],
      "text/plain": [
       "   user_id  age tariff_name              city  month  minutes_calls  \\\n",
       "0     1005   67       smart  Набережные Челны      1           99.0   \n",
       "1     1032   31       smart         Ульяновск      1          397.0   \n",
       "2     1045   48       smart          Улан-Удэ      1            9.0   \n",
       "3     1055   39       smart            Казань      1          568.0   \n",
       "4     1071   20       smart              Омск      1          200.0   \n",
       "\n",
       "   count_calls  cost_calls  count_messages  cost_messages  mb_used  \\\n",
       "0         15.0         0.0             7.0            0.0   2730.0   \n",
       "1         61.0         0.0            38.0            0.0  24158.0   \n",
       "2          1.0         0.0             5.0            0.0   2348.0   \n",
       "3         64.0       204.0            30.0            0.0  17115.0   \n",
       "4         24.0         0.0            16.0            0.0  15625.0   \n",
       "\n",
       "   cost_internet  additional_services  total_paid  churn_date region  \n",
       "0            0.0                  0.0       550.0       False  other  \n",
       "1         1800.0               1800.0      2350.0       False  other  \n",
       "2            0.0                  0.0       550.0       False  other  \n",
       "3          400.0                604.0      1154.0       False  other  \n",
       "4          200.0                200.0       750.0        True  other  "
      ]
     },
     "execution_count": 73,
     "metadata": {},
     "output_type": "execute_result"
    }
   ],
   "source": [
    "data.head()"
   ]
  },
  {
   "cell_type": "code",
   "execution_count": 77,
   "metadata": {},
   "outputs": [
    {
     "data": {
      "text/plain": [
       "0        2730.0\n",
       "1       24158.0\n",
       "2        2348.0\n",
       "3       17115.0\n",
       "4       15625.0\n",
       "         ...   \n",
       "3189    11072.0\n",
       "3194    17246.0\n",
       "3200    19599.0\n",
       "3206    17526.0\n",
       "3212    17349.0\n",
       "Name: mb_used, Length: 2229, dtype: float64"
      ]
     },
     "execution_count": 77,
     "metadata": {},
     "output_type": "execute_result"
    }
   ],
   "source": [
    "data[data['tariff_name'] == 'smart']['mb_used']"
   ]
  },
  {
   "cell_type": "code",
   "execution_count": 79,
   "metadata": {
    "scrolled": false
   },
   "outputs": [
    {
     "data": {
      "image/png": "[encoded data removed]",
      "text/plain": [
       "<Figure size 720x504 with 1 Axes>"
      ]
     },
     "metadata": {
      "needs_background": "light"
     },
     "output_type": "display_data"
    }
   ],
   "source": [
    "sns.boxplot(data['tariff_name'], data['mb_used'])\n",
    "plt.title('Распределение интернет трафика', fontdict=font);\n",
    "\n"
   ]
  },
  {
   "cell_type": "code",
   "execution_count": 81,
   "metadata": {
    "scrolled": false
   },
   "outputs": [
    {
     "data": {
      "image/png": "[encoded data removed]",
      "text/plain": [
       "<Figure size 720x504 with 1 Axes>"
      ]
     },
     "metadata": {
      "needs_background": "light"
     },
     "output_type": "display_data"
    }
   ],
   "source": [
    "sns.boxplot(data['tariff_name'], data['minutes_calls'])\n",
    "plt.title('Распределение звонков', fontdict=font);"
   ]
  },
  {
   "cell_type": "code",
   "execution_count": 82,
   "metadata": {},
   "outputs": [
    {
     "data": {
      "image/png": "[encoded data removed]",
      "text/plain": [
       "<Figure size 720x504 with 1 Axes>"
      ]
     },
     "metadata": {
      "needs_background": "light"
     },
     "output_type": "display_data"
    }
   ],
   "source": [
    "sns.boxplot(data['tariff_name'], data['count_messages'])\n",
    "plt.title('Распределение количества сообщений', fontdict=font);"
   ]
  },
  {
   "cell_type": "markdown",
   "metadata": {},
   "source": [
    "### Средняя цена  услуг в месяц по тарифам в разрезе услуг"
   ]
  },
  {
   "cell_type": "code",
   "execution_count": 55,
   "metadata": {},
   "outputs": [
    {
     "data": {
      "text/html": [
       "<div>\n",
       "<style scoped>\n",
       "    .dataframe tbody tr th:only-of-type {\n",
       "        vertical-align: middle;\n",
       "    }\n",
       "\n",
       "    .dataframe tbody tr th {\n",
       "        vertical-align: top;\n",
       "    }\n",
       "\n",
       "    .dataframe thead th {\n",
       "        text-align: right;\n",
       "    }\n",
       "</style>\n",
       "<table border=\"1\" class=\"dataframe\">\n",
       "  <thead>\n",
       "    <tr style=\"text-align: right;\">\n",
       "      <th></th>\n",
       "      <th></th>\n",
       "      <th>additional_services</th>\n",
       "      <th>cost_calls</th>\n",
       "      <th>cost_internet</th>\n",
       "      <th>cost_messages</th>\n",
       "      <th>total_paid</th>\n",
       "    </tr>\n",
       "    <tr>\n",
       "      <th>tariff_name</th>\n",
       "      <th>month</th>\n",
       "      <th></th>\n",
       "      <th></th>\n",
       "      <th></th>\n",
       "      <th></th>\n",
       "      <th></th>\n",
       "    </tr>\n",
       "  </thead>\n",
       "  <tbody>\n",
       "    <tr>\n",
       "      <th rowspan=\"12\" valign=\"top\">smart</th>\n",
       "      <th>1</th>\n",
       "      <td>173.352941</td>\n",
       "      <td>6.529412</td>\n",
       "      <td>164.705882</td>\n",
       "      <td>2.117647</td>\n",
       "      <td>723.352941</td>\n",
       "    </tr>\n",
       "    <tr>\n",
       "      <th>2</th>\n",
       "      <td>285.051724</td>\n",
       "      <td>51.931034</td>\n",
       "      <td>227.586207</td>\n",
       "      <td>5.534483</td>\n",
       "      <td>835.051724</td>\n",
       "    </tr>\n",
       "    <tr>\n",
       "      <th>3</th>\n",
       "      <td>628.571429</td>\n",
       "      <td>117.428571</td>\n",
       "      <td>496.103896</td>\n",
       "      <td>15.038961</td>\n",
       "      <td>1178.571429</td>\n",
       "    </tr>\n",
       "    <tr>\n",
       "      <th>4</th>\n",
       "      <td>424.875000</td>\n",
       "      <td>92.437500</td>\n",
       "      <td>321.428571</td>\n",
       "      <td>11.008929</td>\n",
       "      <td>974.875000</td>\n",
       "    </tr>\n",
       "    <tr>\n",
       "      <th>5</th>\n",
       "      <td>669.106383</td>\n",
       "      <td>95.617021</td>\n",
       "      <td>557.446809</td>\n",
       "      <td>16.042553</td>\n",
       "      <td>1219.106383</td>\n",
       "    </tr>\n",
       "    <tr>\n",
       "      <th>6</th>\n",
       "      <td>674.146341</td>\n",
       "      <td>102.256098</td>\n",
       "      <td>554.878049</td>\n",
       "      <td>17.012195</td>\n",
       "      <td>1224.146341</td>\n",
       "    </tr>\n",
       "    <tr>\n",
       "      <th>7</th>\n",
       "      <td>696.472637</td>\n",
       "      <td>119.910448</td>\n",
       "      <td>559.203980</td>\n",
       "      <td>17.358209</td>\n",
       "      <td>1246.472637</td>\n",
       "    </tr>\n",
       "    <tr>\n",
       "      <th>8</th>\n",
       "      <td>796.974468</td>\n",
       "      <td>139.059574</td>\n",
       "      <td>639.148936</td>\n",
       "      <td>18.765957</td>\n",
       "      <td>1346.974468</td>\n",
       "    </tr>\n",
       "    <tr>\n",
       "      <th>9</th>\n",
       "      <td>724.500000</td>\n",
       "      <td>146.676923</td>\n",
       "      <td>560.769231</td>\n",
       "      <td>17.053846</td>\n",
       "      <td>1274.500000</td>\n",
       "    </tr>\n",
       "    <tr>\n",
       "      <th>10</th>\n",
       "      <td>838.833333</td>\n",
       "      <td>150.785714</td>\n",
       "      <td>670.068027</td>\n",
       "      <td>17.979592</td>\n",
       "      <td>1388.833333</td>\n",
       "    </tr>\n",
       "    <tr>\n",
       "      <th>11</th>\n",
       "      <td>816.996835</td>\n",
       "      <td>151.063291</td>\n",
       "      <td>647.468354</td>\n",
       "      <td>18.465190</td>\n",
       "      <td>1366.996835</td>\n",
       "    </tr>\n",
       "    <tr>\n",
       "      <th>12</th>\n",
       "      <td>1056.038576</td>\n",
       "      <td>226.086053</td>\n",
       "      <td>807.715134</td>\n",
       "      <td>22.237389</td>\n",
       "      <td>1606.038576</td>\n",
       "    </tr>\n",
       "    <tr>\n",
       "      <th rowspan=\"12\" valign=\"top\">ultra</th>\n",
       "      <th>1</th>\n",
       "      <td>0.000000</td>\n",
       "      <td>0.000000</td>\n",
       "      <td>0.000000</td>\n",
       "      <td>0.000000</td>\n",
       "      <td>1950.000000</td>\n",
       "    </tr>\n",
       "    <tr>\n",
       "      <th>2</th>\n",
       "      <td>25.000000</td>\n",
       "      <td>0.000000</td>\n",
       "      <td>25.000000</td>\n",
       "      <td>0.000000</td>\n",
       "      <td>1975.000000</td>\n",
       "    </tr>\n",
       "    <tr>\n",
       "      <th>3</th>\n",
       "      <td>64.864865</td>\n",
       "      <td>0.000000</td>\n",
       "      <td>64.864865</td>\n",
       "      <td>0.000000</td>\n",
       "      <td>2014.864865</td>\n",
       "    </tr>\n",
       "    <tr>\n",
       "      <th>4</th>\n",
       "      <td>51.818182</td>\n",
       "      <td>0.000000</td>\n",
       "      <td>51.818182</td>\n",
       "      <td>0.000000</td>\n",
       "      <td>2001.818182</td>\n",
       "    </tr>\n",
       "    <tr>\n",
       "      <th>5</th>\n",
       "      <td>111.940299</td>\n",
       "      <td>0.000000</td>\n",
       "      <td>111.940299</td>\n",
       "      <td>0.000000</td>\n",
       "      <td>2061.940299</td>\n",
       "    </tr>\n",
       "    <tr>\n",
       "      <th>6</th>\n",
       "      <td>91.071429</td>\n",
       "      <td>0.000000</td>\n",
       "      <td>91.071429</td>\n",
       "      <td>0.000000</td>\n",
       "      <td>2041.071429</td>\n",
       "    </tr>\n",
       "    <tr>\n",
       "      <th>7</th>\n",
       "      <td>171.428571</td>\n",
       "      <td>0.000000</td>\n",
       "      <td>171.428571</td>\n",
       "      <td>0.000000</td>\n",
       "      <td>2121.428571</td>\n",
       "    </tr>\n",
       "    <tr>\n",
       "      <th>8</th>\n",
       "      <td>133.177570</td>\n",
       "      <td>0.000000</td>\n",
       "      <td>133.177570</td>\n",
       "      <td>0.000000</td>\n",
       "      <td>2083.177570</td>\n",
       "    </tr>\n",
       "    <tr>\n",
       "      <th>9</th>\n",
       "      <td>74.347826</td>\n",
       "      <td>0.000000</td>\n",
       "      <td>74.347826</td>\n",
       "      <td>0.000000</td>\n",
       "      <td>2024.347826</td>\n",
       "    </tr>\n",
       "    <tr>\n",
       "      <th>10</th>\n",
       "      <td>117.073171</td>\n",
       "      <td>0.000000</td>\n",
       "      <td>117.073171</td>\n",
       "      <td>0.000000</td>\n",
       "      <td>2067.073171</td>\n",
       "    </tr>\n",
       "    <tr>\n",
       "      <th>11</th>\n",
       "      <td>143.283582</td>\n",
       "      <td>0.000000</td>\n",
       "      <td>143.283582</td>\n",
       "      <td>0.000000</td>\n",
       "      <td>2093.283582</td>\n",
       "    </tr>\n",
       "    <tr>\n",
       "      <th>12</th>\n",
       "      <td>188.848921</td>\n",
       "      <td>0.000000</td>\n",
       "      <td>188.848921</td>\n",
       "      <td>0.000000</td>\n",
       "      <td>2138.848921</td>\n",
       "    </tr>\n",
       "  </tbody>\n",
       "</table>\n",
       "</div>"
      ],
      "text/plain": [
       "                   additional_services  cost_calls  cost_internet  \\\n",
       "tariff_name month                                                   \n",
       "smart       1               173.352941    6.529412     164.705882   \n",
       "            2               285.051724   51.931034     227.586207   \n",
       "            3               628.571429  117.428571     496.103896   \n",
       "            4               424.875000   92.437500     321.428571   \n",
       "            5               669.106383   95.617021     557.446809   \n",
       "            6               674.146341  102.256098     554.878049   \n",
       "            7               696.472637  119.910448     559.203980   \n",
       "            8               796.974468  139.059574     639.148936   \n",
       "            9               724.500000  146.676923     560.769231   \n",
       "            10              838.833333  150.785714     670.068027   \n",
       "            11              816.996835  151.063291     647.468354   \n",
       "            12             1056.038576  226.086053     807.715134   \n",
       "ultra       1                 0.000000    0.000000       0.000000   \n",
       "            2                25.000000    0.000000      25.000000   \n",
       "            3                64.864865    0.000000      64.864865   \n",
       "            4                51.818182    0.000000      51.818182   \n",
       "            5               111.940299    0.000000     111.940299   \n",
       "            6                91.071429    0.000000      91.071429   \n",
       "            7               171.428571    0.000000     171.428571   \n",
       "            8               133.177570    0.000000     133.177570   \n",
       "            9                74.347826    0.000000      74.347826   \n",
       "            10              117.073171    0.000000     117.073171   \n",
       "            11              143.283582    0.000000     143.283582   \n",
       "            12              188.848921    0.000000     188.848921   \n",
       "\n",
       "                   cost_messages   total_paid  \n",
       "tariff_name month                              \n",
       "smart       1           2.117647   723.352941  \n",
       "            2           5.534483   835.051724  \n",
       "            3          15.038961  1178.571429  \n",
       "            4          11.008929   974.875000  \n",
       "            5          16.042553  1219.106383  \n",
       "            6          17.012195  1224.146341  \n",
       "            7          17.358209  1246.472637  \n",
       "            8          18.765957  1346.974468  \n",
       "            9          17.053846  1274.500000  \n",
       "            10         17.979592  1388.833333  \n",
       "            11         18.465190  1366.996835  \n",
       "            12         22.237389  1606.038576  \n",
       "ultra       1           0.000000  1950.000000  \n",
       "            2           0.000000  1975.000000  \n",
       "            3           0.000000  2014.864865  \n",
       "            4           0.000000  2001.818182  \n",
       "            5           0.000000  2061.940299  \n",
       "            6           0.000000  2041.071429  \n",
       "            7           0.000000  2121.428571  \n",
       "            8           0.000000  2083.177570  \n",
       "            9           0.000000  2024.347826  \n",
       "            10          0.000000  2067.073171  \n",
       "            11          0.000000  2093.283582  \n",
       "            12          0.000000  2138.848921  "
      ]
     },
     "execution_count": 55,
     "metadata": {},
     "output_type": "execute_result"
    }
   ],
   "source": [
    "tarifs_many = (df.pivot_table(index=['tariff_name', 'month'], values=['total_paid', \n",
    "                                     'additional_services', \n",
    "                                     'cost_calls',\n",
    "                                     'cost_messages',\n",
    "                                     'cost_internet'\n",
    "                                    ] )\n",
    ")\n",
    "tarifs_many\n",
    "# tarifs.loc['smart']"
   ]
  },
  {
   "cell_type": "markdown",
   "metadata": {},
   "source": [
    "### Тариф \"Смарт\""
   ]
  },
  {
   "cell_type": "code",
   "execution_count": 56,
   "metadata": {
    "scrolled": false
   },
   "outputs": [
    {
     "data": {
      "image/png": "[encoded data removed]",
      "text/plain": [
       "<Figure size 720x504 with 1 Axes>"
      ]
     },
     "metadata": {
      "needs_background": "light"
     },
     "output_type": "display_data"
    }
   ],
   "source": [
    "temp = tarifs_many.reset_index()\n",
    "smart = temp[temp['tariff_name'] == 'smart']\n",
    "sns.barplot(smart['month'], smart['total_paid'], data=smart)\n",
    "plt.title('Распределение затрат по месяцам за 2018 год \"Смарт\"', fontdict=font);"
   ]
  },
  {
   "cell_type": "markdown",
   "metadata": {},
   "source": [
    "### Тариф \"Ультра\""
   ]
  },
  {
   "cell_type": "code",
   "execution_count": 57,
   "metadata": {},
   "outputs": [
    {
     "data": {
      "image/png": "[encoded data removed]",
      "text/plain": [
       "<Figure size 720x504 with 1 Axes>"
      ]
     },
     "metadata": {
      "needs_background": "light"
     },
     "output_type": "display_data"
    }
   ],
   "source": [
    "ultra = temp[temp['tariff_name'] == 'ultra']\n",
    "sns.barplot(ultra['month'], ultra['total_paid'], data=ultra)\n",
    "plt.title('Распределение затрат по месяцам за 2018 год \"Ультра\"', fontdict=font);"
   ]
  },
  {
   "cell_type": "code",
   "execution_count": 58,
   "metadata": {
    "scrolled": false
   },
   "outputs": [
    {
     "data": {
      "text/html": [
       "<div>\n",
       "<style scoped>\n",
       "    .dataframe tbody tr th:only-of-type {\n",
       "        vertical-align: middle;\n",
       "    }\n",
       "\n",
       "    .dataframe tbody tr th {\n",
       "        vertical-align: top;\n",
       "    }\n",
       "\n",
       "    .dataframe thead th {\n",
       "        text-align: right;\n",
       "    }\n",
       "</style>\n",
       "<table border=\"1\" class=\"dataframe\">\n",
       "  <thead>\n",
       "    <tr style=\"text-align: right;\">\n",
       "      <th></th>\n",
       "      <th>additional_services</th>\n",
       "      <th>cost_calls</th>\n",
       "      <th>cost_internet</th>\n",
       "      <th>cost_messages</th>\n",
       "      <th>total_paid</th>\n",
       "    </tr>\n",
       "    <tr>\n",
       "      <th>tariff_name</th>\n",
       "      <th></th>\n",
       "      <th></th>\n",
       "      <th></th>\n",
       "      <th></th>\n",
       "      <th></th>\n",
       "    </tr>\n",
       "  </thead>\n",
       "  <tbody>\n",
       "    <tr>\n",
       "      <th>smart</th>\n",
       "      <td>762.512337</td>\n",
       "      <td>141.792732</td>\n",
       "      <td>603.319874</td>\n",
       "      <td>17.399731</td>\n",
       "      <td>1312.512337</td>\n",
       "    </tr>\n",
       "    <tr>\n",
       "      <th>ultra</th>\n",
       "      <td>121.065990</td>\n",
       "      <td>0.000000</td>\n",
       "      <td>121.065990</td>\n",
       "      <td>0.000000</td>\n",
       "      <td>2071.065990</td>\n",
       "    </tr>\n",
       "  </tbody>\n",
       "</table>\n",
       "</div>"
      ],
      "text/plain": [
       "             additional_services  cost_calls  cost_internet  cost_messages  \\\n",
       "tariff_name                                                                  \n",
       "smart                 762.512337  141.792732     603.319874      17.399731   \n",
       "ultra                 121.065990    0.000000     121.065990       0.000000   \n",
       "\n",
       "              total_paid  \n",
       "tariff_name               \n",
       "smart        1312.512337  \n",
       "ultra        2071.065990  "
      ]
     },
     "execution_count": 58,
     "metadata": {},
     "output_type": "execute_result"
    }
   ],
   "source": [
    "average_tarif = (df.pivot_table(index=['tariff_name'], \n",
    "                                values=['total_paid', \n",
    "                                      'additional_services', \n",
    "                                      'cost_calls',\n",
    "                                      'cost_messages',\n",
    "                                      'cost_internet'])\n",
    ")\n",
    "average_tarif"
   ]
  },
  {
   "cell_type": "code",
   "execution_count": 59,
   "metadata": {},
   "outputs": [
    {
     "data": {
      "image/png": "[encoded data removed]",
      "text/plain": [
       "<Figure size 720x504 with 1 Axes>"
      ]
     },
     "metadata": {
      "needs_background": "light"
     },
     "output_type": "display_data"
    }
   ],
   "source": [
    "temp = average_tarif.reset_index()\n",
    "sns.barplot(temp['tariff_name'], temp['total_paid'], data=temp)\n",
    "plt.title('Средняя цена услуг в месяц', fontdict=font);"
   ]
  },
  {
   "cell_type": "code",
   "execution_count": 60,
   "metadata": {},
   "outputs": [
    {
     "data": {
      "image/png": "[encoded data removed]",
      "text/plain": [
       "<Figure size 720x504 with 1 Axes>"
      ]
     },
     "metadata": {
      "needs_background": "light"
     },
     "output_type": "display_data"
    }
   ],
   "source": [
    "sns.barplot(temp['tariff_name'], temp['cost_internet'], data=temp)\n",
    "plt.title('Сумма дополнительных услуги интернет', fontdict=font );"
   ]
  },
  {
   "cell_type": "markdown",
   "metadata": {},
   "source": [
    "#### Вывод\n",
    "- Графики распределения средств по месяцам показывают что пользователи тарифа \"Ультра\" платят за тариф каждый месяц примерно одинаково. Пользователи \"Смарт\" увеличивают расходы на услуги связи из месяца в месяц.\n",
    "- Из обобщенной таблицы видим что средняя ежемесячная плата пользователей за услуги составляет:\n",
    "    - тариф \"Смарт\" - 1312 рублей\n",
    "    - тариф \"Ультра\" - 2071 рублей\n",
    "- Польователи в тарифе \"Смарт\" платят за дополнительный сервис 762 руб., когда на тарифе \"Ультра\" эта сумма составляет 121 руб.\n",
    "- Самая главная строка расходов это интернет трафик. практически вся сумма допов складывается из него.\n",
    "- Пользователи \"Смарт\" тратят в 3 раза больще средств чем стоит их ежемесячный платеж за услуги. \n",
    "- Сообщения сегодня не в моде - скорее всего это связано с тем, что общение происходит через социальные сети.\n",
    "- Стоимость 1 Гб интернет на тарифе \"Смарт\" стоит 200 рублей. График показывает, что пользователям данного тарифа ежемесячно не хватает 3-4 Гб трафика."
   ]
  },
  {
   "cell_type": "markdown",
   "metadata": {},
   "source": [
    "### Сколько минут разговора, сколько сообщений и какой объём интернет-трафика требуется пользователям каждого тарифа в месяц"
   ]
  },
  {
   "cell_type": "markdown",
   "metadata": {},
   "source": [
    "### Использование услуг"
   ]
  },
  {
   "cell_type": "code",
   "execution_count": 61,
   "metadata": {},
   "outputs": [
    {
     "data": {
      "text/html": [
       "<div>\n",
       "<style scoped>\n",
       "    .dataframe tbody tr th:only-of-type {\n",
       "        vertical-align: middle;\n",
       "    }\n",
       "\n",
       "    .dataframe tbody tr th {\n",
       "        vertical-align: top;\n",
       "    }\n",
       "\n",
       "    .dataframe thead th {\n",
       "        text-align: right;\n",
       "    }\n",
       "</style>\n",
       "<table border=\"1\" class=\"dataframe\">\n",
       "  <thead>\n",
       "    <tr style=\"text-align: right;\">\n",
       "      <th></th>\n",
       "      <th></th>\n",
       "      <th>count_messages</th>\n",
       "      <th>mb_used</th>\n",
       "      <th>minutes_calls</th>\n",
       "      <th>total_paid</th>\n",
       "    </tr>\n",
       "    <tr>\n",
       "      <th>tariff_name</th>\n",
       "      <th>month</th>\n",
       "      <th></th>\n",
       "      <th></th>\n",
       "      <th></th>\n",
       "      <th></th>\n",
       "    </tr>\n",
       "  </thead>\n",
       "  <tbody>\n",
       "    <tr>\n",
       "      <th rowspan=\"12\" valign=\"top\">smart</th>\n",
       "      <th>1</th>\n",
       "      <td>18.235294</td>\n",
       "      <td>8528.588235</td>\n",
       "      <td>209.647059</td>\n",
       "      <td>723.352941</td>\n",
       "    </tr>\n",
       "    <tr>\n",
       "      <th>2</th>\n",
       "      <td>24.086207</td>\n",
       "      <td>11617.344828</td>\n",
       "      <td>306.310345</td>\n",
       "      <td>835.051724</td>\n",
       "    </tr>\n",
       "    <tr>\n",
       "      <th>3</th>\n",
       "      <td>31.857143</td>\n",
       "      <td>15131.207792</td>\n",
       "      <td>400.532468</td>\n",
       "      <td>1178.571429</td>\n",
       "    </tr>\n",
       "    <tr>\n",
       "      <th>4</th>\n",
       "      <td>30.741071</td>\n",
       "      <td>13486.080357</td>\n",
       "      <td>377.000000</td>\n",
       "      <td>974.875000</td>\n",
       "    </tr>\n",
       "    <tr>\n",
       "      <th>5</th>\n",
       "      <td>33.773050</td>\n",
       "      <td>15832.751773</td>\n",
       "      <td>398.404255</td>\n",
       "      <td>1219.106383</td>\n",
       "    </tr>\n",
       "    <tr>\n",
       "      <th>6</th>\n",
       "      <td>33.402439</td>\n",
       "      <td>15822.445122</td>\n",
       "      <td>406.701220</td>\n",
       "      <td>1224.146341</td>\n",
       "    </tr>\n",
       "    <tr>\n",
       "      <th>7</th>\n",
       "      <td>33.751244</td>\n",
       "      <td>15771.398010</td>\n",
       "      <td>419.288557</td>\n",
       "      <td>1246.472637</td>\n",
       "    </tr>\n",
       "    <tr>\n",
       "      <th>8</th>\n",
       "      <td>33.638298</td>\n",
       "      <td>16640.212766</td>\n",
       "      <td>433.191489</td>\n",
       "      <td>1346.974468</td>\n",
       "    </tr>\n",
       "    <tr>\n",
       "      <th>9</th>\n",
       "      <td>33.638462</td>\n",
       "      <td>16332.615385</td>\n",
       "      <td>440.080769</td>\n",
       "      <td>1274.500000</td>\n",
       "    </tr>\n",
       "    <tr>\n",
       "      <th>10</th>\n",
       "      <td>33.765306</td>\n",
       "      <td>16786.853741</td>\n",
       "      <td>438.295918</td>\n",
       "      <td>1388.833333</td>\n",
       "    </tr>\n",
       "    <tr>\n",
       "      <th>11</th>\n",
       "      <td>34.075949</td>\n",
       "      <td>16925.962025</td>\n",
       "      <td>447.620253</td>\n",
       "      <td>1366.996835</td>\n",
       "    </tr>\n",
       "    <tr>\n",
       "      <th>12</th>\n",
       "      <td>35.994065</td>\n",
       "      <td>18145.824926</td>\n",
       "      <td>491.418398</td>\n",
       "      <td>1606.038576</td>\n",
       "    </tr>\n",
       "    <tr>\n",
       "      <th rowspan=\"12\" valign=\"top\">ultra</th>\n",
       "      <th>1</th>\n",
       "      <td>33.777778</td>\n",
       "      <td>13154.666667</td>\n",
       "      <td>440.888889</td>\n",
       "      <td>1950.000000</td>\n",
       "    </tr>\n",
       "    <tr>\n",
       "      <th>2</th>\n",
       "      <td>21.958333</td>\n",
       "      <td>11788.333333</td>\n",
       "      <td>304.666667</td>\n",
       "      <td>1975.000000</td>\n",
       "    </tr>\n",
       "    <tr>\n",
       "      <th>3</th>\n",
       "      <td>32.297297</td>\n",
       "      <td>17553.513514</td>\n",
       "      <td>503.081081</td>\n",
       "      <td>2014.864865</td>\n",
       "    </tr>\n",
       "    <tr>\n",
       "      <th>4</th>\n",
       "      <td>31.563636</td>\n",
       "      <td>16845.254545</td>\n",
       "      <td>470.072727</td>\n",
       "      <td>2001.818182</td>\n",
       "    </tr>\n",
       "    <tr>\n",
       "      <th>5</th>\n",
       "      <td>37.850746</td>\n",
       "      <td>19383.194030</td>\n",
       "      <td>524.865672</td>\n",
       "      <td>2061.940299</td>\n",
       "    </tr>\n",
       "    <tr>\n",
       "      <th>6</th>\n",
       "      <td>41.726190</td>\n",
       "      <td>18943.928571</td>\n",
       "      <td>492.428571</td>\n",
       "      <td>2041.071429</td>\n",
       "    </tr>\n",
       "    <tr>\n",
       "      <th>7</th>\n",
       "      <td>49.846154</td>\n",
       "      <td>20516.571429</td>\n",
       "      <td>560.296703</td>\n",
       "      <td>2121.428571</td>\n",
       "    </tr>\n",
       "    <tr>\n",
       "      <th>8</th>\n",
       "      <td>48.439252</td>\n",
       "      <td>19595.878505</td>\n",
       "      <td>524.570093</td>\n",
       "      <td>2083.177570</td>\n",
       "    </tr>\n",
       "    <tr>\n",
       "      <th>9</th>\n",
       "      <td>52.286957</td>\n",
       "      <td>19224.043478</td>\n",
       "      <td>553.643478</td>\n",
       "      <td>2024.347826</td>\n",
       "    </tr>\n",
       "    <tr>\n",
       "      <th>10</th>\n",
       "      <td>58.430894</td>\n",
       "      <td>20065.536585</td>\n",
       "      <td>572.829268</td>\n",
       "      <td>2067.073171</td>\n",
       "    </tr>\n",
       "    <tr>\n",
       "      <th>11</th>\n",
       "      <td>55.791045</td>\n",
       "      <td>19807.126866</td>\n",
       "      <td>555.805970</td>\n",
       "      <td>2093.283582</td>\n",
       "    </tr>\n",
       "    <tr>\n",
       "      <th>12</th>\n",
       "      <td>60.611511</td>\n",
       "      <td>21815.683453</td>\n",
       "      <td>609.129496</td>\n",
       "      <td>2138.848921</td>\n",
       "    </tr>\n",
       "  </tbody>\n",
       "</table>\n",
       "</div>"
      ],
      "text/plain": [
       "                   count_messages       mb_used  minutes_calls   total_paid\n",
       "tariff_name month                                                          \n",
       "smart       1           18.235294   8528.588235     209.647059   723.352941\n",
       "            2           24.086207  11617.344828     306.310345   835.051724\n",
       "            3           31.857143  15131.207792     400.532468  1178.571429\n",
       "            4           30.741071  13486.080357     377.000000   974.875000\n",
       "            5           33.773050  15832.751773     398.404255  1219.106383\n",
       "            6           33.402439  15822.445122     406.701220  1224.146341\n",
       "            7           33.751244  15771.398010     419.288557  1246.472637\n",
       "            8           33.638298  16640.212766     433.191489  1346.974468\n",
       "            9           33.638462  16332.615385     440.080769  1274.500000\n",
       "            10          33.765306  16786.853741     438.295918  1388.833333\n",
       "            11          34.075949  16925.962025     447.620253  1366.996835\n",
       "            12          35.994065  18145.824926     491.418398  1606.038576\n",
       "ultra       1           33.777778  13154.666667     440.888889  1950.000000\n",
       "            2           21.958333  11788.333333     304.666667  1975.000000\n",
       "            3           32.297297  17553.513514     503.081081  2014.864865\n",
       "            4           31.563636  16845.254545     470.072727  2001.818182\n",
       "            5           37.850746  19383.194030     524.865672  2061.940299\n",
       "            6           41.726190  18943.928571     492.428571  2041.071429\n",
       "            7           49.846154  20516.571429     560.296703  2121.428571\n",
       "            8           48.439252  19595.878505     524.570093  2083.177570\n",
       "            9           52.286957  19224.043478     553.643478  2024.347826\n",
       "            10          58.430894  20065.536585     572.829268  2067.073171\n",
       "            11          55.791045  19807.126866     555.805970  2093.283582\n",
       "            12          60.611511  21815.683453     609.129496  2138.848921"
      ]
     },
     "execution_count": 61,
     "metadata": {},
     "output_type": "execute_result"
    }
   ],
   "source": [
    "tarifs_use = (df.pivot_table(index=['tariff_name', 'month'], values=[\n",
    "                                                                     'minutes_calls', \n",
    "                                                                     'count_messages',\n",
    "                                                                     'mb_used',\n",
    "                                                                     'total_paid'])\n",
    "              )\n",
    "tarifs_use"
   ]
  },
  {
   "cell_type": "code",
   "execution_count": 62,
   "metadata": {},
   "outputs": [
    {
     "data": {
      "image/png": "[encoded data removed]",
      "text/plain": [
       "<Figure size 720x504 with 1 Axes>"
      ]
     },
     "metadata": {
      "needs_background": "light"
     },
     "output_type": "display_data"
    }
   ],
   "source": [
    "temp = tarifs_use.reset_index()\n",
    "smart = temp[temp['tariff_name'] == 'smart']\n",
    "sns.barplot(smart['month'], smart['mb_used'], data=smart)\n",
    "plt.title('Использование интернет трафика по месяцам тарифа - \"Смарт\"', fontdict=font);"
   ]
  },
  {
   "cell_type": "code",
   "execution_count": 63,
   "metadata": {},
   "outputs": [
    {
     "data": {
      "image/png": "[encoded data removed]",
      "text/plain": [
       "<Figure size 720x504 with 1 Axes>"
      ]
     },
     "metadata": {
      "needs_background": "light"
     },
     "output_type": "display_data"
    }
   ],
   "source": [
    "ultra = temp[temp['tariff_name'] == 'ultra']\n",
    "sns.barplot(ultra['month'], ultra['mb_used'], data=ultra)\n",
    "plt.title('Испоьлзование интернет трафика по месяцам тарифа - \"Ультра\"', fontdict=font);"
   ]
  },
  {
   "cell_type": "code",
   "execution_count": 64,
   "metadata": {},
   "outputs": [
    {
     "data": {
      "text/html": [
       "<div>\n",
       "<style scoped>\n",
       "    .dataframe tbody tr th:only-of-type {\n",
       "        vertical-align: middle;\n",
       "    }\n",
       "\n",
       "    .dataframe tbody tr th {\n",
       "        vertical-align: top;\n",
       "    }\n",
       "\n",
       "    .dataframe thead th {\n",
       "        text-align: right;\n",
       "    }\n",
       "</style>\n",
       "<table border=\"1\" class=\"dataframe\">\n",
       "  <thead>\n",
       "    <tr style=\"text-align: right;\">\n",
       "      <th></th>\n",
       "      <th>count_messages</th>\n",
       "      <th>mb_used</th>\n",
       "      <th>minutes_calls</th>\n",
       "      <th>total_paid</th>\n",
       "    </tr>\n",
       "    <tr>\n",
       "      <th>tariff_name</th>\n",
       "      <th></th>\n",
       "      <th></th>\n",
       "      <th></th>\n",
       "      <th></th>\n",
       "    </tr>\n",
       "  </thead>\n",
       "  <tbody>\n",
       "    <tr>\n",
       "      <th>smart</th>\n",
       "      <td>33.384029</td>\n",
       "      <td>16237.184388</td>\n",
       "      <td>429.450875</td>\n",
       "      <td>1312.512337</td>\n",
       "    </tr>\n",
       "    <tr>\n",
       "      <th>ultra</th>\n",
       "      <td>49.363452</td>\n",
       "      <td>19488.703553</td>\n",
       "      <td>540.779695</td>\n",
       "      <td>2071.065990</td>\n",
       "    </tr>\n",
       "  </tbody>\n",
       "</table>\n",
       "</div>"
      ],
      "text/plain": [
       "             count_messages       mb_used  minutes_calls   total_paid\n",
       "tariff_name                                                          \n",
       "smart             33.384029  16237.184388     429.450875  1312.512337\n",
       "ultra             49.363452  19488.703553     540.779695  2071.065990"
      ]
     },
     "execution_count": 64,
     "metadata": {},
     "output_type": "execute_result"
    }
   ],
   "source": [
    "tarifs_use_average = (df.pivot_table(index=['tariff_name'], values=[\n",
    "                                                                     'minutes_calls', \n",
    "                                                                     'count_messages',\n",
    "                                                                     'mb_used',\n",
    "                                                                     'total_paid'])\n",
    "              )\n",
    "tarifs_use_average"
   ]
  },
  {
   "cell_type": "code",
   "execution_count": 65,
   "metadata": {},
   "outputs": [
    {
     "data": {
      "image/png": "[encoded data removed]",
      "text/plain": [
       "<Figure size 720x504 with 1 Axes>"
      ]
     },
     "metadata": {
      "needs_background": "light"
     },
     "output_type": "display_data"
    }
   ],
   "source": [
    "temp = tarifs_use_average.reset_index()\n",
    "sns.barplot(temp['tariff_name'], temp['minutes_calls'], data=temp)\n",
    "plt.title('Среднее количество использованных минут по тарифам в месяц', fontdict=font);"
   ]
  },
  {
   "cell_type": "markdown",
   "metadata": {},
   "source": [
    "#### Вывод\n",
    "- Использование интернет трафика возрастало на обоих тарифах в течении года.\n",
    "- Общее распределение показывает что пользователи тарифа \"Ультра\" в среднем не могут использовать предоставляемый им пакет услуг, из 1000 смс всего 50, из 30 Гб всего 20. и по звонкам из 3000 минут только 500 это все лишь шестая часть. Но средняя ежемесячная цена выше чем цена за пакет. Свою роль играют выбросы (отдельные пользователи которые поднимают среднюю цену), это также подтверждает график boxplot. В дальнейшем при формировании гипотез мы отбросим выбросы.\n",
    "- Пользователи тарифа \"Смарт\" пользуются услугами чуть меньше чем пользователи тарифа \"Ультра\". Они часто пользуются дополнительными услагами. "
   ]
  },
  {
   "cell_type": "markdown",
   "metadata": {},
   "source": [
    "### Посчитайте среднее количество, дисперсию и стандартное отклонение. Постройте гистограммы. "
   ]
  },
  {
   "cell_type": "code",
   "execution_count": 93,
   "metadata": {},
   "outputs": [],
   "source": [
    "## Функция возврата параметров \n",
    "def get_parametr(df, name_column):\n",
    "    \"\"\"\n",
    "    df: pandas DataFrame\n",
    "    name_column: name column 'string'\n",
    "    return: min, max, mean, std, median, var\n",
    "    \"\"\"\n",
    "    df = df.groupby('tariff_name').agg({f'{name_column}': ['min', 'max', 'mean', 'std', 'median', 'var']})\n",
    "    return df"
   ]
  },
  {
   "cell_type": "markdown",
   "metadata": {},
   "source": [
    "### Время разговора"
   ]
  },
  {
   "cell_type": "code",
   "execution_count": 112,
   "metadata": {},
   "outputs": [
    {
     "data": {
      "text/html": [
       "<div>\n",
       "<style scoped>\n",
       "    .dataframe tbody tr th:only-of-type {\n",
       "        vertical-align: middle;\n",
       "    }\n",
       "\n",
       "    .dataframe tbody tr th {\n",
       "        vertical-align: top;\n",
       "    }\n",
       "\n",
       "    .dataframe thead tr th {\n",
       "        text-align: left;\n",
       "    }\n",
       "\n",
       "    .dataframe thead tr:last-of-type th {\n",
       "        text-align: right;\n",
       "    }\n",
       "</style>\n",
       "<table border=\"1\" class=\"dataframe\">\n",
       "  <thead>\n",
       "    <tr>\n",
       "      <th></th>\n",
       "      <th colspan=\"6\" halign=\"left\">minutes_calls</th>\n",
       "    </tr>\n",
       "    <tr>\n",
       "      <th></th>\n",
       "      <th>min</th>\n",
       "      <th>max</th>\n",
       "      <th>mean</th>\n",
       "      <th>std</th>\n",
       "      <th>median</th>\n",
       "      <th>var</th>\n",
       "    </tr>\n",
       "    <tr>\n",
       "      <th>tariff_name</th>\n",
       "      <th></th>\n",
       "      <th></th>\n",
       "      <th></th>\n",
       "      <th></th>\n",
       "      <th></th>\n",
       "      <th></th>\n",
       "    </tr>\n",
       "  </thead>\n",
       "  <tbody>\n",
       "    <tr>\n",
       "      <th>smart</th>\n",
       "      <td>0.0</td>\n",
       "      <td>1471.0</td>\n",
       "      <td>429.450875</td>\n",
       "      <td>194.871174</td>\n",
       "      <td>435.0</td>\n",
       "      <td>37974.774628</td>\n",
       "    </tr>\n",
       "    <tr>\n",
       "      <th>ultra</th>\n",
       "      <td>0.0</td>\n",
       "      <td>1727.0</td>\n",
       "      <td>540.779695</td>\n",
       "      <td>325.738740</td>\n",
       "      <td>532.0</td>\n",
       "      <td>106105.726823</td>\n",
       "    </tr>\n",
       "  </tbody>\n",
       "</table>\n",
       "</div>"
      ],
      "text/plain": [
       "            minutes_calls                                         \\\n",
       "                      min     max        mean         std median   \n",
       "tariff_name                                                        \n",
       "smart                 0.0  1471.0  429.450875  194.871174  435.0   \n",
       "ultra                 0.0  1727.0  540.779695  325.738740  532.0   \n",
       "\n",
       "                            \n",
       "                       var  \n",
       "tariff_name                 \n",
       "smart         37974.774628  \n",
       "ultra        106105.726823  "
      ]
     },
     "execution_count": 112,
     "metadata": {},
     "output_type": "execute_result"
    }
   ],
   "source": [
    "get_parametr(data, 'minutes_calls')"
   ]
  },
  {
   "cell_type": "code",
   "execution_count": 122,
   "metadata": {},
   "outputs": [
    {
     "data": {
      "image/png": "[encoded data removed]",
      "text/plain": [
       "<Figure size 720x504 with 1 Axes>"
      ]
     },
     "metadata": {
      "needs_background": "light"
     },
     "output_type": "display_data"
    }
   ],
   "source": [
    "data[data['tariff_name'] == 'ultra']['minutes_calls'].hist(label='smart')\n",
    "data[data['tariff_name'] == 'smart']['minutes_calls'].hist(label='ultra', alpha=0.5)\n",
    "plt.title('Гистограмма распределения времени разговора', fontdict=font)\n",
    "plt.legend();\n"
   ]
  },
  {
   "cell_type": "markdown",
   "metadata": {},
   "source": [
    "### Сообщения"
   ]
  },
  {
   "cell_type": "code",
   "execution_count": 126,
   "metadata": {
    "scrolled": true
   },
   "outputs": [
    {
     "data": {
      "text/html": [
       "<div>\n",
       "<style scoped>\n",
       "    .dataframe tbody tr th:only-of-type {\n",
       "        vertical-align: middle;\n",
       "    }\n",
       "\n",
       "    .dataframe tbody tr th {\n",
       "        vertical-align: top;\n",
       "    }\n",
       "\n",
       "    .dataframe thead tr th {\n",
       "        text-align: left;\n",
       "    }\n",
       "\n",
       "    .dataframe thead tr:last-of-type th {\n",
       "        text-align: right;\n",
       "    }\n",
       "</style>\n",
       "<table border=\"1\" class=\"dataframe\">\n",
       "  <thead>\n",
       "    <tr>\n",
       "      <th></th>\n",
       "      <th colspan=\"6\" halign=\"left\">count_messages</th>\n",
       "    </tr>\n",
       "    <tr>\n",
       "      <th></th>\n",
       "      <th>min</th>\n",
       "      <th>max</th>\n",
       "      <th>mean</th>\n",
       "      <th>std</th>\n",
       "      <th>median</th>\n",
       "      <th>var</th>\n",
       "    </tr>\n",
       "    <tr>\n",
       "      <th>tariff_name</th>\n",
       "      <th></th>\n",
       "      <th></th>\n",
       "      <th></th>\n",
       "      <th></th>\n",
       "      <th></th>\n",
       "      <th></th>\n",
       "    </tr>\n",
       "  </thead>\n",
       "  <tbody>\n",
       "    <tr>\n",
       "      <th>smart</th>\n",
       "      <td>0.0</td>\n",
       "      <td>143.0</td>\n",
       "      <td>33.384029</td>\n",
       "      <td>28.227876</td>\n",
       "      <td>28.0</td>\n",
       "      <td>796.812958</td>\n",
       "    </tr>\n",
       "    <tr>\n",
       "      <th>ultra</th>\n",
       "      <td>0.0</td>\n",
       "      <td>224.0</td>\n",
       "      <td>49.363452</td>\n",
       "      <td>47.804457</td>\n",
       "      <td>38.0</td>\n",
       "      <td>2285.266143</td>\n",
       "    </tr>\n",
       "  </tbody>\n",
       "</table>\n",
       "</div>"
      ],
      "text/plain": [
       "            count_messages                                                 \n",
       "                       min    max       mean        std median          var\n",
       "tariff_name                                                                \n",
       "smart                  0.0  143.0  33.384029  28.227876   28.0   796.812958\n",
       "ultra                  0.0  224.0  49.363452  47.804457   38.0  2285.266143"
      ]
     },
     "execution_count": 126,
     "metadata": {},
     "output_type": "execute_result"
    }
   ],
   "source": [
    "get_parametr(data, 'count_messages')"
   ]
  },
  {
   "cell_type": "code",
   "execution_count": 127,
   "metadata": {},
   "outputs": [
    {
     "data": {
      "image/png": "[encoded data removed]",
      "text/plain": [
       "<Figure size 720x504 with 1 Axes>"
      ]
     },
     "metadata": {
      "needs_background": "light"
     },
     "output_type": "display_data"
    }
   ],
   "source": [
    "data[data['tariff_name'] == 'ultra']['count_messages'].hist(label='smart')\n",
    "data[data['tariff_name'] == 'smart']['count_messages'].hist(label='ultra', alpha=0.5)\n",
    "plt.title('Гистограмма распределения количества сообщений', fontdict=font)\n",
    "plt.legend();"
   ]
  },
  {
   "cell_type": "code",
   "execution_count": 83,
   "metadata": {},
   "outputs": [
    {
     "data": {
      "text/html": [
       "<div>\n",
       "<style scoped>\n",
       "    .dataframe tbody tr th:only-of-type {\n",
       "        vertical-align: middle;\n",
       "    }\n",
       "\n",
       "    .dataframe tbody tr th {\n",
       "        vertical-align: top;\n",
       "    }\n",
       "\n",
       "    .dataframe thead th {\n",
       "        text-align: right;\n",
       "    }\n",
       "</style>\n",
       "<table border=\"1\" class=\"dataframe\">\n",
       "  <thead>\n",
       "    <tr style=\"text-align: right;\">\n",
       "      <th></th>\n",
       "      <th>user_id</th>\n",
       "      <th>age</th>\n",
       "      <th>tariff_name</th>\n",
       "      <th>city</th>\n",
       "      <th>month</th>\n",
       "      <th>minutes_calls</th>\n",
       "      <th>count_calls</th>\n",
       "      <th>cost_calls</th>\n",
       "      <th>count_messages</th>\n",
       "      <th>cost_messages</th>\n",
       "      <th>mb_used</th>\n",
       "      <th>cost_internet</th>\n",
       "      <th>additional_services</th>\n",
       "      <th>total_paid</th>\n",
       "      <th>churn_date</th>\n",
       "      <th>region</th>\n",
       "    </tr>\n",
       "  </thead>\n",
       "  <tbody>\n",
       "    <tr>\n",
       "      <th>0</th>\n",
       "      <td>1005</td>\n",
       "      <td>67</td>\n",
       "      <td>smart</td>\n",
       "      <td>Набережные Челны</td>\n",
       "      <td>1</td>\n",
       "      <td>99.0</td>\n",
       "      <td>15.0</td>\n",
       "      <td>0.0</td>\n",
       "      <td>7.0</td>\n",
       "      <td>0.0</td>\n",
       "      <td>2730.0</td>\n",
       "      <td>0.0</td>\n",
       "      <td>0.0</td>\n",
       "      <td>550.0</td>\n",
       "      <td>False</td>\n",
       "      <td>other</td>\n",
       "    </tr>\n",
       "    <tr>\n",
       "      <th>1</th>\n",
       "      <td>1032</td>\n",
       "      <td>31</td>\n",
       "      <td>smart</td>\n",
       "      <td>Ульяновск</td>\n",
       "      <td>1</td>\n",
       "      <td>397.0</td>\n",
       "      <td>61.0</td>\n",
       "      <td>0.0</td>\n",
       "      <td>38.0</td>\n",
       "      <td>0.0</td>\n",
       "      <td>24158.0</td>\n",
       "      <td>1800.0</td>\n",
       "      <td>1800.0</td>\n",
       "      <td>2350.0</td>\n",
       "      <td>False</td>\n",
       "      <td>other</td>\n",
       "    </tr>\n",
       "    <tr>\n",
       "      <th>2</th>\n",
       "      <td>1045</td>\n",
       "      <td>48</td>\n",
       "      <td>smart</td>\n",
       "      <td>Улан-Удэ</td>\n",
       "      <td>1</td>\n",
       "      <td>9.0</td>\n",
       "      <td>1.0</td>\n",
       "      <td>0.0</td>\n",
       "      <td>5.0</td>\n",
       "      <td>0.0</td>\n",
       "      <td>2348.0</td>\n",
       "      <td>0.0</td>\n",
       "      <td>0.0</td>\n",
       "      <td>550.0</td>\n",
       "      <td>False</td>\n",
       "      <td>other</td>\n",
       "    </tr>\n",
       "    <tr>\n",
       "      <th>3</th>\n",
       "      <td>1055</td>\n",
       "      <td>39</td>\n",
       "      <td>smart</td>\n",
       "      <td>Казань</td>\n",
       "      <td>1</td>\n",
       "      <td>568.0</td>\n",
       "      <td>64.0</td>\n",
       "      <td>204.0</td>\n",
       "      <td>30.0</td>\n",
       "      <td>0.0</td>\n",
       "      <td>17115.0</td>\n",
       "      <td>400.0</td>\n",
       "      <td>604.0</td>\n",
       "      <td>1154.0</td>\n",
       "      <td>False</td>\n",
       "      <td>other</td>\n",
       "    </tr>\n",
       "    <tr>\n",
       "      <th>4</th>\n",
       "      <td>1071</td>\n",
       "      <td>20</td>\n",
       "      <td>smart</td>\n",
       "      <td>Омск</td>\n",
       "      <td>1</td>\n",
       "      <td>200.0</td>\n",
       "      <td>24.0</td>\n",
       "      <td>0.0</td>\n",
       "      <td>16.0</td>\n",
       "      <td>0.0</td>\n",
       "      <td>15625.0</td>\n",
       "      <td>200.0</td>\n",
       "      <td>200.0</td>\n",
       "      <td>750.0</td>\n",
       "      <td>True</td>\n",
       "      <td>other</td>\n",
       "    </tr>\n",
       "  </tbody>\n",
       "</table>\n",
       "</div>"
      ],
      "text/plain": [
       "   user_id  age tariff_name              city  month  minutes_calls  \\\n",
       "0     1005   67       smart  Набережные Челны      1           99.0   \n",
       "1     1032   31       smart         Ульяновск      1          397.0   \n",
       "2     1045   48       smart          Улан-Удэ      1            9.0   \n",
       "3     1055   39       smart            Казань      1          568.0   \n",
       "4     1071   20       smart              Омск      1          200.0   \n",
       "\n",
       "   count_calls  cost_calls  count_messages  cost_messages  mb_used  \\\n",
       "0         15.0         0.0             7.0            0.0   2730.0   \n",
       "1         61.0         0.0            38.0            0.0  24158.0   \n",
       "2          1.0         0.0             5.0            0.0   2348.0   \n",
       "3         64.0       204.0            30.0            0.0  17115.0   \n",
       "4         24.0         0.0            16.0            0.0  15625.0   \n",
       "\n",
       "   cost_internet  additional_services  total_paid  churn_date region  \n",
       "0            0.0                  0.0       550.0       False  other  \n",
       "1         1800.0               1800.0      2350.0       False  other  \n",
       "2            0.0                  0.0       550.0       False  other  \n",
       "3          400.0                604.0      1154.0       False  other  \n",
       "4          200.0                200.0       750.0        True  other  "
      ]
     },
     "execution_count": 83,
     "metadata": {},
     "output_type": "execute_result"
    }
   ],
   "source": [
    "data.head()"
   ]
  },
  {
   "cell_type": "markdown",
   "metadata": {},
   "source": [
    "### Интернет трафик"
   ]
  },
  {
   "cell_type": "code",
   "execution_count": 128,
   "metadata": {},
   "outputs": [
    {
     "data": {
      "text/html": [
       "<div>\n",
       "<style scoped>\n",
       "    .dataframe tbody tr th:only-of-type {\n",
       "        vertical-align: middle;\n",
       "    }\n",
       "\n",
       "    .dataframe tbody tr th {\n",
       "        vertical-align: top;\n",
       "    }\n",
       "\n",
       "    .dataframe thead tr th {\n",
       "        text-align: left;\n",
       "    }\n",
       "\n",
       "    .dataframe thead tr:last-of-type th {\n",
       "        text-align: right;\n",
       "    }\n",
       "</style>\n",
       "<table border=\"1\" class=\"dataframe\">\n",
       "  <thead>\n",
       "    <tr>\n",
       "      <th></th>\n",
       "      <th colspan=\"6\" halign=\"left\">mb_used</th>\n",
       "    </tr>\n",
       "    <tr>\n",
       "      <th></th>\n",
       "      <th>min</th>\n",
       "      <th>max</th>\n",
       "      <th>mean</th>\n",
       "      <th>std</th>\n",
       "      <th>median</th>\n",
       "      <th>var</th>\n",
       "    </tr>\n",
       "    <tr>\n",
       "      <th>tariff_name</th>\n",
       "      <th></th>\n",
       "      <th></th>\n",
       "      <th></th>\n",
       "      <th></th>\n",
       "      <th></th>\n",
       "      <th></th>\n",
       "    </tr>\n",
       "  </thead>\n",
       "  <tbody>\n",
       "    <tr>\n",
       "      <th>smart</th>\n",
       "      <td>0.0</td>\n",
       "      <td>38627.0</td>\n",
       "      <td>16237.184388</td>\n",
       "      <td>5879.795158</td>\n",
       "      <td>16540.0</td>\n",
       "      <td>3.457199e+07</td>\n",
       "    </tr>\n",
       "    <tr>\n",
       "      <th>ultra</th>\n",
       "      <td>0.0</td>\n",
       "      <td>49793.0</td>\n",
       "      <td>19488.703553</td>\n",
       "      <td>10097.107541</td>\n",
       "      <td>19324.0</td>\n",
       "      <td>1.019516e+08</td>\n",
       "    </tr>\n",
       "  </tbody>\n",
       "</table>\n",
       "</div>"
      ],
      "text/plain": [
       "            mb_used                                                \\\n",
       "                min      max          mean           std   median   \n",
       "tariff_name                                                         \n",
       "smart           0.0  38627.0  16237.184388   5879.795158  16540.0   \n",
       "ultra           0.0  49793.0  19488.703553  10097.107541  19324.0   \n",
       "\n",
       "                           \n",
       "                      var  \n",
       "tariff_name                \n",
       "smart        3.457199e+07  \n",
       "ultra        1.019516e+08  "
      ]
     },
     "execution_count": 128,
     "metadata": {},
     "output_type": "execute_result"
    }
   ],
   "source": [
    "get_parametr(data, 'mb_used')"
   ]
  },
  {
   "cell_type": "code",
   "execution_count": 129,
   "metadata": {},
   "outputs": [
    {
     "data": {
      "image/png": "[encoded data removed]",
      "text/plain": [
       "<Figure size 720x504 with 1 Axes>"
      ]
     },
     "metadata": {
      "needs_background": "light"
     },
     "output_type": "display_data"
    }
   ],
   "source": [
    "data[data['tariff_name'] == 'ultra']['mb_used'].hist(label='smart')\n",
    "data[data['tariff_name'] == 'smart']['mb_used'].hist(label='ultra', alpha=0.5)\n",
    "plt.title('Гистограмма распределения использования интернет трафика', fontdict=font)\n",
    "plt.legend();"
   ]
  },
  {
   "cell_type": "code",
   "execution_count": null,
   "metadata": {},
   "outputs": [],
   "source": []
  },
  {
   "cell_type": "markdown",
   "metadata": {},
   "source": [
    "<a name=\"5\"></a>\n",
    "# 5. Проверка  гипотез\n",
    "\n",
    "[К оглавлению](#1)\n",
    "\n",
    "\n",
    "- средняя выручка пользователей тарифов «Ультра» и «Смарт» различается;\n",
    "- средняя выручка пользователей из Москвы отличается от выручки пользователей из других регионов;\n"
   ]
  },
  {
   "cell_type": "markdown",
   "metadata": {},
   "source": [
    "### Удаление выбросов и смотрим boxplot"
   ]
  },
  {
   "cell_type": "code",
   "execution_count": null,
   "metadata": {},
   "outputs": [],
   "source": [
    "Удаление выбросов"
   ]
  },
  {
   "cell_type": "code",
   "execution_count": 136,
   "metadata": {},
   "outputs": [],
   "source": [
    "def get_clear_data_or_boxplot(df, column, value=None):\n",
    "    \"\"\"\n",
    "    return boxplot в 1.5 квартильных размаха\n",
    "    При передаче параметра value - возвращает Series переданного столбца\n",
    "    \"\"\"  \n",
    "    q1 = df[column].quantile(0.25) \n",
    "    q3 = df[column].quantile(0.75)\n",
    "    # межквантильный размах\n",
    "    range_quantile = q3 - q1   \n",
    "    data = df[(df[column] >= (q1 - 1.5*range_quantile)) & \n",
    "              (df[column] <= (q3 + 1.5*range_quantile))]\n",
    "    if value:\n",
    "        return data[column]\n",
    "    return data.boxplot([column], figsize=(10, 7))"
   ]
  },
  {
   "cell_type": "code",
   "execution_count": 143,
   "metadata": {},
   "outputs": [
    {
     "data": {
      "image/png": "[encoded data removed]",
      "text/plain": [
       "<Figure size 720x504 with 1 Axes>"
      ]
     },
     "metadata": {
      "needs_background": "light"
     },
     "output_type": "display_data"
    }
   ],
   "source": [
    "get_clear_data_or_boxplot(data, 'minutes_calls')\n",
    "plt.title('Boxplot звонков по обоим тарифам без выбросов', fontdict=font);"
   ]
  },
  {
   "cell_type": "code",
   "execution_count": 144,
   "metadata": {},
   "outputs": [
    {
     "data": {
      "image/png": "[encoded data removed]",
      "text/plain": [
       "<Figure size 720x504 with 1 Axes>"
      ]
     },
     "metadata": {
      "needs_background": "light"
     },
     "output_type": "display_data"
    }
   ],
   "source": [
    "get_clear_data_or_boxplot(data, 'count_messages')\n",
    "plt.title('Boxplot сообщений по обоим тарифам без выбросов', fontdict=font);"
   ]
  },
  {
   "cell_type": "code",
   "execution_count": 146,
   "metadata": {},
   "outputs": [
    {
     "data": {
      "image/png": "[encoded data removed]",
      "text/plain": [
       "<Figure size 720x504 with 1 Axes>"
      ]
     },
     "metadata": {
      "needs_background": "light"
     },
     "output_type": "display_data"
    }
   ],
   "source": [
    "get_clear_data_or_boxplot(data, 'mb_used')\n",
    "plt.title('Boxplot интернет трафика по обоим тарифам без выбросов', fontdict=font);"
   ]
  },
  {
   "cell_type": "markdown",
   "metadata": {},
   "source": [
    "### Делим данные по тарифам"
   ]
  },
  {
   "cell_type": "code",
   "execution_count": 150,
   "metadata": {},
   "outputs": [
    {
     "data": {
      "text/html": [
       "<div>\n",
       "<style scoped>\n",
       "    .dataframe tbody tr th:only-of-type {\n",
       "        vertical-align: middle;\n",
       "    }\n",
       "\n",
       "    .dataframe tbody tr th {\n",
       "        vertical-align: top;\n",
       "    }\n",
       "\n",
       "    .dataframe thead th {\n",
       "        text-align: right;\n",
       "    }\n",
       "</style>\n",
       "<table border=\"1\" class=\"dataframe\">\n",
       "  <thead>\n",
       "    <tr style=\"text-align: right;\">\n",
       "      <th></th>\n",
       "      <th>user_id</th>\n",
       "      <th>age</th>\n",
       "      <th>tariff_name</th>\n",
       "      <th>city</th>\n",
       "      <th>month</th>\n",
       "      <th>minutes_calls</th>\n",
       "      <th>count_calls</th>\n",
       "      <th>cost_calls</th>\n",
       "      <th>count_messages</th>\n",
       "      <th>cost_messages</th>\n",
       "      <th>mb_used</th>\n",
       "      <th>cost_internet</th>\n",
       "      <th>additional_services</th>\n",
       "      <th>total_paid</th>\n",
       "      <th>churn_date</th>\n",
       "      <th>region</th>\n",
       "    </tr>\n",
       "  </thead>\n",
       "  <tbody>\n",
       "    <tr>\n",
       "      <th>0</th>\n",
       "      <td>1005</td>\n",
       "      <td>67</td>\n",
       "      <td>smart</td>\n",
       "      <td>Набережные Челны</td>\n",
       "      <td>1</td>\n",
       "      <td>99.0</td>\n",
       "      <td>15.0</td>\n",
       "      <td>0.0</td>\n",
       "      <td>7.0</td>\n",
       "      <td>0.0</td>\n",
       "      <td>2730.0</td>\n",
       "      <td>0.0</td>\n",
       "      <td>0.0</td>\n",
       "      <td>550.0</td>\n",
       "      <td>False</td>\n",
       "      <td>other</td>\n",
       "    </tr>\n",
       "    <tr>\n",
       "      <th>1</th>\n",
       "      <td>1032</td>\n",
       "      <td>31</td>\n",
       "      <td>smart</td>\n",
       "      <td>Ульяновск</td>\n",
       "      <td>1</td>\n",
       "      <td>397.0</td>\n",
       "      <td>61.0</td>\n",
       "      <td>0.0</td>\n",
       "      <td>38.0</td>\n",
       "      <td>0.0</td>\n",
       "      <td>24158.0</td>\n",
       "      <td>1800.0</td>\n",
       "      <td>1800.0</td>\n",
       "      <td>2350.0</td>\n",
       "      <td>False</td>\n",
       "      <td>other</td>\n",
       "    </tr>\n",
       "    <tr>\n",
       "      <th>2</th>\n",
       "      <td>1045</td>\n",
       "      <td>48</td>\n",
       "      <td>smart</td>\n",
       "      <td>Улан-Удэ</td>\n",
       "      <td>1</td>\n",
       "      <td>9.0</td>\n",
       "      <td>1.0</td>\n",
       "      <td>0.0</td>\n",
       "      <td>5.0</td>\n",
       "      <td>0.0</td>\n",
       "      <td>2348.0</td>\n",
       "      <td>0.0</td>\n",
       "      <td>0.0</td>\n",
       "      <td>550.0</td>\n",
       "      <td>False</td>\n",
       "      <td>other</td>\n",
       "    </tr>\n",
       "    <tr>\n",
       "      <th>3</th>\n",
       "      <td>1055</td>\n",
       "      <td>39</td>\n",
       "      <td>smart</td>\n",
       "      <td>Казань</td>\n",
       "      <td>1</td>\n",
       "      <td>568.0</td>\n",
       "      <td>64.0</td>\n",
       "      <td>204.0</td>\n",
       "      <td>30.0</td>\n",
       "      <td>0.0</td>\n",
       "      <td>17115.0</td>\n",
       "      <td>400.0</td>\n",
       "      <td>604.0</td>\n",
       "      <td>1154.0</td>\n",
       "      <td>False</td>\n",
       "      <td>other</td>\n",
       "    </tr>\n",
       "    <tr>\n",
       "      <th>4</th>\n",
       "      <td>1071</td>\n",
       "      <td>20</td>\n",
       "      <td>smart</td>\n",
       "      <td>Омск</td>\n",
       "      <td>1</td>\n",
       "      <td>200.0</td>\n",
       "      <td>24.0</td>\n",
       "      <td>0.0</td>\n",
       "      <td>16.0</td>\n",
       "      <td>0.0</td>\n",
       "      <td>15625.0</td>\n",
       "      <td>200.0</td>\n",
       "      <td>200.0</td>\n",
       "      <td>750.0</td>\n",
       "      <td>True</td>\n",
       "      <td>other</td>\n",
       "    </tr>\n",
       "  </tbody>\n",
       "</table>\n",
       "</div>"
      ],
      "text/plain": [
       "   user_id  age tariff_name              city  month  minutes_calls  \\\n",
       "0     1005   67       smart  Набережные Челны      1           99.0   \n",
       "1     1032   31       smart         Ульяновск      1          397.0   \n",
       "2     1045   48       smart          Улан-Удэ      1            9.0   \n",
       "3     1055   39       smart            Казань      1          568.0   \n",
       "4     1071   20       smart              Омск      1          200.0   \n",
       "\n",
       "   count_calls  cost_calls  count_messages  cost_messages  mb_used  \\\n",
       "0         15.0         0.0             7.0            0.0   2730.0   \n",
       "1         61.0         0.0            38.0            0.0  24158.0   \n",
       "2          1.0         0.0             5.0            0.0   2348.0   \n",
       "3         64.0       204.0            30.0            0.0  17115.0   \n",
       "4         24.0         0.0            16.0            0.0  15625.0   \n",
       "\n",
       "   cost_internet  additional_services  total_paid  churn_date region  \n",
       "0            0.0                  0.0       550.0       False  other  \n",
       "1         1800.0               1800.0      2350.0       False  other  \n",
       "2            0.0                  0.0       550.0       False  other  \n",
       "3          400.0                604.0      1154.0       False  other  \n",
       "4          200.0                200.0       750.0        True  other  "
      ]
     },
     "execution_count": 150,
     "metadata": {},
     "output_type": "execute_result"
    }
   ],
   "source": [
    "data.head()"
   ]
  },
  {
   "cell_type": "code",
   "execution_count": 152,
   "metadata": {},
   "outputs": [],
   "source": [
    "ultra = data[data['tariff_name'] == 'ultra']\n",
    "smart = data[data['tariff_name'] == 'smart']"
   ]
  },
  {
   "cell_type": "markdown",
   "metadata": {},
   "source": [
    "### Подготовленные данные"
   ]
  },
  {
   "cell_type": "code",
   "execution_count": 161,
   "metadata": {},
   "outputs": [],
   "source": [
    "ultra_total_paid_clear = get_clear_data_or_boxplot(ultra, 'total_paid', value=1)\n",
    "ultra_total_paid = ultra['total_paid']\n",
    "\n",
    "\n",
    "smart_total_paid_clear = get_clear_data_or_boxplot(smart, 'total_paid', value=1)\n",
    "smart_total_paid = smart['total_paid']"
   ]
  },
  {
   "cell_type": "markdown",
   "metadata": {},
   "source": [
    "## Средняя выручка пользователей тарифов «Ультра» и «Смарт» различается\n",
    "\n",
    "\n",
    "Нулевая гипотеза H₀:\n",
    "\n",
    "> Средняя выручка пользователей тарифов \"Ультра\" и \"Смарт\" **не различается**\n",
    "\n",
    "Гипотеза H₁:\n",
    "\n",
    "> Средняя выручка пользователей тарифов \"Ультра\" и \"Смарт\" **различается**\n",
    "\n",
    "Пороговое значение (критический уровень статистической значимости) зададим равным `alpha = 0.05`.\n",
    "\n"
   ]
  },
  {
   "cell_type": "code",
   "execution_count": 162,
   "metadata": {},
   "outputs": [
    {
     "data": {
      "text/html": [
       "<div>\n",
       "<style scoped>\n",
       "    .dataframe tbody tr th:only-of-type {\n",
       "        vertical-align: middle;\n",
       "    }\n",
       "\n",
       "    .dataframe tbody tr th {\n",
       "        vertical-align: top;\n",
       "    }\n",
       "\n",
       "    .dataframe thead tr th {\n",
       "        text-align: left;\n",
       "    }\n",
       "\n",
       "    .dataframe thead tr:last-of-type th {\n",
       "        text-align: right;\n",
       "    }\n",
       "</style>\n",
       "<table border=\"1\" class=\"dataframe\">\n",
       "  <thead>\n",
       "    <tr>\n",
       "      <th></th>\n",
       "      <th colspan=\"6\" halign=\"left\">total_paid</th>\n",
       "    </tr>\n",
       "    <tr>\n",
       "      <th></th>\n",
       "      <th>min</th>\n",
       "      <th>max</th>\n",
       "      <th>mean</th>\n",
       "      <th>std</th>\n",
       "      <th>median</th>\n",
       "      <th>var</th>\n",
       "    </tr>\n",
       "    <tr>\n",
       "      <th>tariff_name</th>\n",
       "      <th></th>\n",
       "      <th></th>\n",
       "      <th></th>\n",
       "      <th></th>\n",
       "      <th></th>\n",
       "      <th></th>\n",
       "    </tr>\n",
       "  </thead>\n",
       "  <tbody>\n",
       "    <tr>\n",
       "      <th>smart</th>\n",
       "      <td>550.0</td>\n",
       "      <td>6824.0</td>\n",
       "      <td>1312.512337</td>\n",
       "      <td>830.938122</td>\n",
       "      <td>1075.0</td>\n",
       "      <td>690458.161989</td>\n",
       "    </tr>\n",
       "    <tr>\n",
       "      <th>ultra</th>\n",
       "      <td>1950.0</td>\n",
       "      <td>4800.0</td>\n",
       "      <td>2071.065990</td>\n",
       "      <td>378.802377</td>\n",
       "      <td>1950.0</td>\n",
       "      <td>143491.240560</td>\n",
       "    </tr>\n",
       "  </tbody>\n",
       "</table>\n",
       "</div>"
      ],
      "text/plain": [
       "            total_paid                                                        \n",
       "                   min     max         mean         std  median            var\n",
       "tariff_name                                                                   \n",
       "smart            550.0  6824.0  1312.512337  830.938122  1075.0  690458.161989\n",
       "ultra           1950.0  4800.0  2071.065990  378.802377  1950.0  143491.240560"
      ]
     },
     "execution_count": 162,
     "metadata": {},
     "output_type": "execute_result"
    }
   ],
   "source": [
    "get_parametr(data, 'total_paid')"
   ]
  },
  {
   "cell_type": "markdown",
   "metadata": {},
   "source": [
    "### Проверка на очищенных данных"
   ]
  },
  {
   "cell_type": "code",
   "execution_count": 174,
   "metadata": {},
   "outputs": [
    {
     "name": "stdout",
     "output_type": "stream",
     "text": [
      "p-значение: 3.012746682932018e-144\n",
      "Отвергаем нулевую гипотезу\n"
     ]
    }
   ],
   "source": [
    "alpha = 0.05\n",
    "results = st.ttest_ind(ultra_total_paid_clear, smart_total_paid_clear)\n",
    "\n",
    "print('p-значение:', results.pvalue)\n",
    "\n",
    "if (results.pvalue < alpha):\n",
    "    print(\"Отвергаем нулевую гипотезу\")\n",
    "else:\n",
    "    print(\"Не получилось отвергнуть нулевую гипотезу\")"
   ]
  },
  {
   "cell_type": "markdown",
   "metadata": {},
   "source": [
    "### Проверка на всех значениях выборки"
   ]
  },
  {
   "cell_type": "code",
   "execution_count": 167,
   "metadata": {},
   "outputs": [
    {
     "name": "stdout",
     "output_type": "stream",
     "text": [
      "p-значение: 6.857477410979864e-149\n",
      "Отвергаем нулевую гипотезу\n"
     ]
    }
   ],
   "source": [
    "alpha = 0.05\n",
    "results = st.ttest_ind(ultra_total_paid, smart_total_paid)\n",
    "\n",
    "print('p-значение:', results.pvalue)\n",
    "\n",
    "if (results.pvalue < alpha):\n",
    "    print(\"Отвергаем нулевую гипотезу\")\n",
    "else:\n",
    "    print(\"Не получилось отвергнуть нулевую гипотезу\")"
   ]
  },
  {
   "cell_type": "markdown",
   "metadata": {},
   "source": [
    "### Вывод:\n",
    "\n",
    "- p-уровень значимости меньше порогового значения. Вероятность получить различия случайно равна:  \n",
    "     - **6.857477410979864e-149** на всех значениях \n",
    "     - **3.012746682932018e-144** на значениях без выбросов\n",
    "- Средняя выручка пользователей тарифов \"Ультра\" и \"Смарт\" различается.\n",
    "- Гипотеза H₁ подтвердилась\n"
   ]
  },
  {
   "cell_type": "markdown",
   "metadata": {},
   "source": [
    "## Средняя выручка пользователей из Москвы отличается от выручки пользователей из других регионов\n",
    "\n",
    "\n",
    "Нулевая гипотеза H₀:\n",
    "\n",
    "> Cредняя выручка пользователей из Москвы **не отличается** от выручки пользователей из других регионов\n",
    "\n",
    "Гипотеза H₁:\n",
    "\n",
    "> Cредняя выручка пользователей из Москвы **отличается** от выручки пользователей из других регионов\n",
    "\n",
    "Пороговое значение (критический уровень статистической значимости) зададим равным `alpha=0.05`."
   ]
  },
  {
   "cell_type": "markdown",
   "metadata": {},
   "source": [
    "### Подготовленные данные"
   ]
  },
  {
   "cell_type": "code",
   "execution_count": 181,
   "metadata": {},
   "outputs": [],
   "source": [
    "moscow = data[data['city'] == 'Москва']\n",
    "other = data[data['city'] != 'Москва']"
   ]
  },
  {
   "cell_type": "code",
   "execution_count": 187,
   "metadata": {},
   "outputs": [],
   "source": [
    "mean_moscow_total_paid_clear = get_clear_data_or_boxplot(moscow, 'total_paid', value=1)\n",
    "mean_moscow_total_paid = moscow['total_paid']\n",
    "\n",
    "\n",
    "mean_other_total_paid_clear = get_clear_data_or_boxplot(other, 'total_paid', value=1)\n",
    "mean_other_total_paid = other['total_paid']"
   ]
  },
  {
   "cell_type": "markdown",
   "metadata": {},
   "source": [
    "### Проверка на очищенных данных"
   ]
  },
  {
   "cell_type": "code",
   "execution_count": 190,
   "metadata": {},
   "outputs": [
    {
     "name": "stdout",
     "output_type": "stream",
     "text": [
      "p-значение: 0.2887252778218871\n",
      "Не получилось отвергнуть нулевую гипотезу\n"
     ]
    }
   ],
   "source": [
    "alpha = 0.05\n",
    "results = st.ttest_ind(mean_moscow_total_paid_clear, mean_other_total_paid_clear)\n",
    "\n",
    "print('p-значение:', results.pvalue)\n",
    "\n",
    "if (results.pvalue < alpha):\n",
    "    print(\"Отвергаем нулевую гипотезу\")\n",
    "else:\n",
    "    print(\"Не получилось отвергнуть нулевую гипотезу\")"
   ]
  },
  {
   "cell_type": "markdown",
   "metadata": {},
   "source": [
    "### Проверка на всех значениях выборки"
   ]
  },
  {
   "cell_type": "code",
   "execution_count": 191,
   "metadata": {},
   "outputs": [
    {
     "name": "stdout",
     "output_type": "stream",
     "text": [
      "p-значение: 0.578869733775166\n",
      "Не получилось отвергнуть нулевую гипотезу\n"
     ]
    }
   ],
   "source": [
    "alpha = 0.05\n",
    "results = st.ttest_ind(mean_moscow_total_paid, mean_other_total_paid)\n",
    "\n",
    "print('p-значение:', results.pvalue)\n",
    "\n",
    "if (results.pvalue < alpha):\n",
    "    print(\"Отвергаем нулевую гипотезу\")\n",
    "else:\n",
    "    print(\"Не получилось отвергнуть нулевую гипотезу\")"
   ]
  },
  {
   "cell_type": "markdown",
   "metadata": {},
   "source": [
    "### Вывод:\n",
    "\n",
    "- p-уровень значимости выше порогового значения. Вероятность получить различия случайно равна:  \n",
    "     - **0.578869733775166** на всех значениях \n",
    "     - **0.2887252778218871** на значениях без выбросов\n",
    "     - С вероятностью в **29% или 57%** (в зависимости обработаны данные от выбросов или нет) такой результат может быть получен случайно\n",
    "- Средняя выручка пользователей из Москвы не отличается от выручки пользователей из других регионов.\n",
    "- Гипотеза H₁ не подтвердилась\n"
   ]
  },
  {
   "cell_type": "markdown",
   "metadata": {},
   "source": [
    "<a name=\"6\"></a>\n",
    "# 6. Выводы и результаты исследования\n",
    "\n",
    "[К оглавлению](#1)\n"
   ]
  },
  {
   "cell_type": "markdown",
   "metadata": {},
   "source": [
    "\n",
    "**Всего в нашей выборке 500 абонентов:**\n",
    "- тариф smart 351 пользователя\n",
    "- тариф ultra 149 пользователя\n",
    "\n",
    "##### из которых действующих 462:\n",
    "\n",
    "- тариф smart 328\n",
    "- тариф ultra 134\n",
    "\n",
    "##### прекративших пользоваться услугами 38**:\n",
    "- тариф smart 23\n",
    "- тариф ultra 15\n",
    "\n",
    "\n",
    "\n",
    "- Графики распределения средств по месяцам показывают что пользователи тарифа \"Ультра\" платят за тариф каждый месяц примерно одинаково. Пользователи \"Смарт\" увеличивают расходы на услуги связи из месяца в месяц.\n",
    "- Средняя ежемесячная плата пользователей за услуги составляет:\n",
    "    - тариф \"Смарт\" - 1312 рублей\n",
    "    - тариф \"Ультра\" - 2071 рублей\n",
    "- Польователи в тарифе \"Смарт\" платят за дополнительный сервис 762 руб., когда на тарифе \"Ультра\" эта сумма составляет 121 руб.\n",
    "- Самая главная строка расходов это интернет трафик. Практически вся сумма допов складывается из него.\n",
    "- Пользователи \"Смарт\" тратят в 3 раза больще средств чем стоит их ежемесячный платеж за услуги. \n",
    "- Сообщения сегодня не в моде - скорее всего это связано с тем, что общение происходит через социальные сети.\n",
    "- Пользователям тарифа \"Смарт\" ежемесячно не хватает 3-4 Гб трафика.\n",
    "- Использование интернет трафика возрастало на обоих тарифах в течении года.\n",
    "- Общее распределение показывает что пользователи тарифа \"Ультра\" в среднем не могут использовать предоставляемый им пакет услуг, из 1000 смс всего 50, из 30 Гб всего 20. и по звонкам из 3000 минут только 500 это все лишь шестая часть. Но средняя ежемесячная цена выше чем цена за пакет. Свою роль играют выбросы (отдельные пользователи которые поднимают среднюю цену), это также подтверждает график boxplot. \n",
    "- Пользователи тарифа \"Смарт\" активно пользуются дополнительными услугами. \n",
    "\n",
    "Из двух выдвинутых гипотез подтвердилась только первая:\n",
    "\n",
    "- Cредняя выручка пользователей тарифов «Ультра» и «Смарт» различается\n",
    "\n",
    "**Чтобы однозначно отвечетить на вопрос \"какой тариф лучше\" исходя из вышеприведенного анализа выборочных совокупностей и гипотезы, требуется дополнительная информация об издержках оператора на предоставление услуг. Так как, необходимо видеть среднюю чистую прибыль на абонента каждого тарифа.\n",
    "Со стороны потока денежных средств - \"Ультра\" обеспечивает его в большем объеме.**\n"
   ]
  }
 ],
 "metadata": {
  "kernelspec": {
   "display_name": "Python 3",
   "language": "python",
   "name": "python3"
  },
  "language_info": {
   "codemirror_mode": {
    "name": "ipython",
    "version": 3
   },
   "file_extension": ".py",
   "mimetype": "text/x-python",
   "name": "python",
   "nbconvert_exporter": "python",
   "pygments_lexer": "ipython3",
   "version": "3.7.9"
  }
 },
 "nbformat": 4,
 "nbformat_minor": 2
}
